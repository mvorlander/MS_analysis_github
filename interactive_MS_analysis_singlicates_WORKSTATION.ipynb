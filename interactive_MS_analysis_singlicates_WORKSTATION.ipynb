{
 "cells": [
  {
   "cell_type": "markdown",
   "metadata": {},
   "source": [
    "# **Mass Spectrometry Analysis Notebook**\n",
    "\n",
    "### **Overview**\n",
    "The idea for this notebook is that you provide groups of proteins you are interested in (for example, all subunits of RNA Polymerase II would be one Protein Class or Family), and visualise their absolute and relative abundance in your samples.Some of the plots are searchable and hits (i.e top enriched proteins) can be quickly exported to CSV files.\n",
    "\n",
    "### **Outputs** \n",
    "\n",
    "This notebook creates interactive plots from your data:\n",
    "\n",
    "**Overview** plots: \n",
    "   - Visualise the overall composition for each samly by summing up all proteins belong to your classes of intertest\n",
    "   - Ranked abundance plots: For each sample, protein abundances are sorted from highest to lowest and proteins of interest are highlighted (either using color code from your POI file, or using a search function)\n",
    "\n",
    "**Log2-fold change plots**:\n",
    "   - **Scatter plot** of Log2 fold changes between selected samples for your proteins of interest (POI)\n",
    "   - **Violin plots** for your Protein classes, showing *individual* proteins\n",
    "   - **Heatmaps**  for Log2 fold changes, showing changes *averaged* over all proteins belonging to a Class/ family\n",
    "\n",
    "### **Required Files**\n",
    "\n",
    "In this section, you will specify the file paths required for processing mass spectrometry data. These paths are crucial for the script to load and analyze the data correctly. Below is a list of files you need to provide and instructions for optional files.\n",
    "\n",
    " 1.  **Mass Spectrometry Data File**\n",
    "This Excel file obtained from the facility, which includes protein quantifications and associated metadata.  \n",
    "Due to the merged header format of Excel file which is hard to parse, you need to specify a few values:\n",
    "      -   The column index that contains the uniprot Accession values (i.e 'G'), and the the \"Genes\" column, which will be used for labelling data points in plots (i.e 'H')\n",
    "      -   The  label of the columns that contains protein quantifications. They are usually called 'Area (Norm.)' or 'Norm. Area' , but in case yours is called different add  the column label to the list of strings\n",
    "\n",
    " 2.  **Protein of Interest (POI) Data File**\n",
    "      - **Purpose**: This Excel file includes details about proteins of interest, and an annotation\n",
    "      - **Format**: The file needs to contain a column called \"Class / family\", and a column called \"Other UniProt Accessions\". This column may contain multiple comma seperated uniprot accessions IDs\n",
    " 3. **Color Code File**\n",
    "      - **Purpose**: This CSV file contains a mapping between protein classes/families and their respective color codes, which are used to visually distinguish these classes in plots.\n",
    "      - **Format**: The file needs to contain a column called \"Class / family\", and a column color, that contains the desired color in **HEX code**\n"
   ]
  },
  {
   "cell_type": "markdown",
   "metadata": {},
   "source": [
    ">Note:  In the code block below, Windows paths must be formatted as absolute paths like this `path = r\"/path/to/your/file\"`"
   ]
  },
  {
   "cell_type": "code",
   "execution_count": null,
   "metadata": {},
   "outputs": [],
   "source": [
    "# BLOCK 1: User Input Files\n",
    "\n",
    "# Path to the mass spectrometry data file\n",
    "mass_spec_file_path = r\"\\\\storage.imp.ac.at\\groups\\plaschka\\shared\\data\\mass-spec\\nascent_transcription_complexes\\20250207_E3_NEO7_Vorlaender_Plaschka_IMP_ID1952_coom_gel_dig_HLB_desalted_40per_9x_direct_nombr_nonorm.xlsm\"\n",
    "\n",
    "######################################################Mass spec data file parameter####################################################\n",
    "\n",
    "# Specify the column indices for the 'Genes', 'Accession', and 'Description' columns in the Excel file\n",
    "accession_col_letter = 'E'  # Example: column D\n",
    "genes_col_letter = 'H'  # Example: column G\n",
    "description_col_letter = 'G'  # Example: column H\n",
    "\n",
    "# List possible text strings to identify abundance columns\n",
    "abundance_column_label = ['Area (Norm.)', 'Norm. Area']  # Default should be fine, but in case your column that contains the protein quantification is called different, add it to the list of strings.\n",
    "\n",
    "#r#################################################### Path to the POI data filesr####################################################\n",
    "\n",
    "poi_file_path = r\"\\\\storage.imp.ac.at\\groups\\plaschka\\shared\\data\\mass-spec\\MS_analysis\\protein_annotations\\POIs_PolII_Spliceosome_250225_MV.xlsx\"\n",
    "color_code_file_path = r\"\\\\storage.imp.ac.at\\groups\\plaschka\\shared\\data\\mass-spec\\MS_analysis\\protein_annotations\\COLORS_PolII_Spliceosome_250225_MV.csv\"\n",
    "\n",
    "# If not provided, a default directory will be created in the same location as the mass spec file\n",
    "output_directory_input = r\"\\\\storage.imp.ac.at\\groups\\plaschka\\shared\\data\\mass-spec\\MS_analysis\\YOUR_FOLDER\"  # Set this where results should be saved. Note that you need write permissions in the folder as palschka.lab, so it must be a shared location\n",
    "#output_directory_input = r\"\\\\storage.imp.ac.at\\groups\\plaschka\\shared\\other\\file_sharing\\your_folder\""
   ]
  },
  {
   "cell_type": "markdown",
   "metadata": {},
   "source": [
    "\n",
    "## Pre-process data, merge with annotations, and rename sample for plotting\n",
    "\n",
    "The next code-block:\n",
    "- loads your MS excel file and merges it with your POI annotations files. \n",
    "- After the data is loaded, you can rename the samples to a shorter name used for plotting. Enter the new names, click the save button, and then the apply names button. \n",
    "- The information is saved in a JSON file for late re-use"
   ]
  },
  {
   "cell_type": "code",
   "execution_count": 23,
   "metadata": {},
   "outputs": [
    {
     "name": "stdout",
     "output_type": "stream",
     "text": [
      "Loading data, please be patient...\n",
      "\n",
      "Preview of the specified columns:\n",
      "  Unnamed: 7_level_0   Unnamed: 4_level_0  \\\n",
      "  Unnamed: 7_level_1   Unnamed: 4_level_1   \n",
      "0                NaN                MPBAG   \n",
      "1               Igkc        cont_P01837.1   \n",
      "2                NaN        cont_P01864.1   \n",
      "3                NaN          cont_P00761   \n",
      "4               KRT1  cont_P04264; P04264   \n",
      "5              KRT10  cont_P13645; P13645   \n",
      "6               KRT9  cont_P35527; P35527   \n",
      "7               KRT2  cont_P35908; P35908   \n",
      "8           IGHV3-48               P01763   \n",
      "9             PRPF19               Q9UMS4   \n",
      "\n",
      "                                  Unnamed: 6_level_0  \n",
      "                                  Unnamed: 6_level_1  \n",
      "0                              MBP-ProteinA-ProteinG  \n",
      "1                            Ig kappa chain C region  \n",
      "2           Ig gamma-2A chain C region secreted form  \n",
      "3                    Trypsin OS=Sus scrofa PE=1 SV=1  \n",
      "4  Keratin, type II cytoskeletal 1 OS=Homo sapien...  \n",
      "5  Keratin, type I cytoskeletal 10 OS=Homo sapien...  \n",
      "6  Keratin, type I cytoskeletal 9 OS=Homo sapiens...  \n",
      "7  Keratin, type II cytoskeletal 2 epidermal OS=H...  \n",
      "8  Immunoglobulin heavy variable 3-48 OS=Homo sap...  \n",
      "9  Pre-mRNA-processing factor 19 OS=Homo sapiens ...  \n",
      "\n",
      "Please check carefully that the 'Genes', 'Accession', and 'Description' columns above are correct.\n",
      "Proceeding automatically without user confirmation...\n",
      "\n",
      "Detected abundance columns:\n",
      "    ('Area (Norm.)', 'Unnamed: 13_level_1')\n",
      "    ('Area (Norm.)', 'Unnamed: 21_level_1')\n",
      "    ('Area (Norm.)', 'Unnamed: 29_level_1')\n",
      "    ('Area (Norm.)', 'Unnamed: 37_level_1')\n",
      "    ('Area (Norm.)', 'Unnamed: 45_level_1')\n",
      "    ('Area (Norm.)', 'Unnamed: 53_level_1')\n",
      "    ('Area (Norm.)', 'Unnamed: 61_level_1')\n",
      "    ('Area (Norm.)', 'Unnamed: 69_level_1')\n",
      "    ('Area (Norm.)', 'Unnamed: 77_level_1')\n",
      "\n",
      "These columns correspond to sample names:\n",
      "[0] ('Area (Norm.)', 'Unnamed: 13_level_1') -> 20250207_E3_NEO7_Vorlaender_Plaschka_IMP_ID1952_coom_gel_dig_HLB_desalted_40per_sample1\n",
      "[1] ('Area (Norm.)', 'Unnamed: 21_level_1') -> 20250207_E3_NEO7_Vorlaender_Plaschka_IMP_ID1952_coom_gel_dig_HLB_desalted_40per_sample2\n",
      "[2] ('Area (Norm.)', 'Unnamed: 29_level_1') -> 20250207_E3_NEO7_Vorlaender_Plaschka_IMP_ID1952_coom_gel_dig_HLB_desalted_40per_sample3\n",
      "[3] ('Area (Norm.)', 'Unnamed: 37_level_1') -> 20250207_E3_NEO7_Vorlaender_Plaschka_IMP_ID1952_coom_gel_dig_HLB_desalted_40per_sample4\n",
      "[4] ('Area (Norm.)', 'Unnamed: 45_level_1') -> 20250207_E3_NEO7_Vorlaender_Plaschka_IMP_ID1952_coom_gel_dig_HLB_desalted_40per_sample5\n",
      "[5] ('Area (Norm.)', 'Unnamed: 53_level_1') -> 20250207_E3_NEO7_Vorlaender_Plaschka_IMP_ID1952_coom_gel_dig_HLB_desalted_40per_sample6\n",
      "[6] ('Area (Norm.)', 'Unnamed: 61_level_1') -> 20250207_E3_NEO7_Vorlaender_Plaschka_IMP_ID1952_coom_gel_dig_HLB_desalted_40per_sample7\n",
      "[7] ('Area (Norm.)', 'Unnamed: 69_level_1') -> 20250207_E3_NEO7_Vorlaender_Plaschka_IMP_ID1952_coom_gel_dig_HLB_desalted_40per_sample8\n",
      "[8] ('Area (Norm.)', 'Unnamed: 77_level_1') -> 20250207_E3_NEO7_Vorlaender_Plaschka_IMP_ID1952_coom_gel_dig_HLB_desalted_40per_sample9\n",
      "\n",
      "Launching the renaming widget UI...\n",
      "\n",
      "JSON file already exists at JSON\\sample_rename_map.json\n"
     ]
    },
    {
     "data": {
      "application/vnd.jupyter.widget-view+json": {
       "model_id": "33326df487ab45cab2b0fa0c05fbc63f",
       "version_major": 2,
       "version_minor": 0
      },
      "text/plain": [
       "VBox(children=(Label(value=\"Edit sample names below or remove common prefix, then click 'Save Sample Names':\")…"
      ]
     },
     "metadata": {},
     "output_type": "display_data"
    },
    {
     "data": {
      "application/vnd.jupyter.widget-view+json": {
       "model_id": "4870218f32ae4c059d6d20ce1d4f0010",
       "version_major": 2,
       "version_minor": 0
      },
      "text/plain": [
       "Button(button_style='success', description='Apply New Names & Rebuild Data', style=ButtonStyle())"
      ]
     },
     "metadata": {},
     "output_type": "display_data"
    },
    {
     "data": {
      "application/vnd.jupyter.widget-view+json": {
       "model_id": "155a8e4ce8fc45d38b022a6c05ed459b",
       "version_major": 2,
       "version_minor": 0
      },
      "text/plain": [
       "Output()"
      ]
     },
     "metadata": {},
     "output_type": "display_data"
    },
    {
     "name": "stdout",
     "output_type": "stream",
     "text": [
      "Widget-based renaming logic initialized. Please rename samples (if needed),\n",
      "then click 'Save Sample Names', and finally 'Apply New Names & Rebuild Data'.\n",
      "\n",
      "DON'T FORGET TO HIT THE 'APPLY NEW NAMES' BUTTON!\n"
     ]
    }
   ],
   "source": [
    "import sys\n",
    "sys.path.append(r\"\\\\storage.imp.ac.at\\groups\\plaschka\\shared\\software\\scripts\\python\\ms_analysis_singlicates_src\")\n",
    "from utils_mass_spec_analysis_singlicates import MassSpecPreprocessing\n",
    "\n",
    "required_path=r\"\\\\storage.imp.ac.at\\groups\\plaschka\\shared\\data\\mass-spec\"\n",
    "\n",
    "# Instantiate the preprocessing class with your parameters\n",
    "preprocessor = MassSpecPreprocessing(\n",
    "    mass_spec_file_path=mass_spec_file_path,\n",
    "    poi_file_path=poi_file_path,\n",
    "    color_code_file_path=color_code_file_path,\n",
    "    abundance_column_label=abundance_column_label,\n",
    "    genes_col_letter=genes_col_letter,\n",
    "    accession_col_letter=accession_col_letter,\n",
    "    description_col_letter=description_col_letter,\n",
    "    required_path=r\"\\\\storage.imp.ac.at\\groups\\plaschka\\shared\\data\\mass-spec\"\n",
    ")\n",
    "\n",
    "# Run the preprocessing workflow (this will print a reminder if the file is not in the correct folder)\n",
    "preprocessor.run_preprocessing()\n",
    "if not mass_spec_file_path.startswith(required_path):\n",
    "    print(\"YOUR MASS SPEC DATA IS NOT IN THE SHARED FOLDER! COPY IT THERE AND UPDATE THE EXCEL FILE /plaschka/shared/data/mass-spec/Overview_of_Experiments.xlsx\")\n",
    "\n",
    "print(\"DON'T FORGET TO HIT THE 'APPLY NEW NAMES' BUTTON!\")"
   ]
  },
  {
   "cell_type": "markdown",
   "metadata": {},
   "source": [
    "## Overall sample composition\n",
    "\n",
    "The next code is optional, but when executed sums up all proteins belonging to each class to eastimate the overall sample composition based on your MS results"
   ]
  },
  {
   "cell_type": "code",
   "execution_count": null,
   "metadata": {},
   "outputs": [
    {
     "ename": "TypeError",
     "evalue": "'NoneType' object is not subscriptable",
     "output_type": "error",
     "traceback": [
      "\u001b[1;31m---------------------------------------------------------------------------\u001b[0m",
      "\u001b[1;31mTypeError\u001b[0m                                 Traceback (most recent call last)",
      "Cell \u001b[1;32mIn[24], line 7\u001b[0m\n\u001b[0;32m      4\u001b[0m \u001b[38;5;28;01mfrom\u001b[39;00m \u001b[38;5;21;01mutils_mass_spec_analysis_singlicates\u001b[39;00m \u001b[38;5;28;01mimport\u001b[39;00m plot_overall_sample_composition\n\u001b[0;32m      6\u001b[0m \u001b[38;5;66;03m# 2. First cell: Generate the overall sample abundance plots:\u001b[39;00m\n\u001b[1;32m----> 7\u001b[0m \u001b[43mplot_overall_sample_composition\u001b[49m\u001b[43m(\u001b[49m\u001b[43mpreprocessor\u001b[49m\u001b[38;5;241;43m.\u001b[39;49m\u001b[43mmerged_data\u001b[49m\u001b[43m,\u001b[49m\u001b[43m \u001b[49m\u001b[43mpreprocessor\u001b[49m\u001b[38;5;241;43m.\u001b[39;49m\u001b[43mabundance_cols\u001b[49m\u001b[43m,\u001b[49m\u001b[43m \u001b[49m\u001b[43mpreprocessor\u001b[49m\u001b[38;5;241;43m.\u001b[39;49m\u001b[43mcolor_map\u001b[49m\u001b[43m)\u001b[49m\n",
      "File \u001b[1;32m\\\\storage.imp.ac.at\\groups\\plaschka\\shared\\data\\mass-spec\\MS_analysis\\utils_mass_spec_analysis_singlicates.py:367\u001b[0m, in \u001b[0;36mplot_overall_sample_composition\u001b[1;34m(merged_data, abundance_cols, color_map)\u001b[0m\n\u001b[0;32m    359\u001b[0m \u001b[38;5;250m\u001b[39m\u001b[38;5;124;03m\"\"\"\u001b[39;00m\n\u001b[0;32m    360\u001b[0m \u001b[38;5;124;03mPlot the overall sample composition for each sample in `abundance_cols`.\u001b[39;00m\n\u001b[0;32m    361\u001b[0m \u001b[38;5;124;03mThis function:\u001b[39;00m\n\u001b[1;32m   (...)\u001b[0m\n\u001b[0;32m    364\u001b[0m \u001b[38;5;124;03m  - Plots the data on a log2 scale, labeling each bar with the number of unique proteins\u001b[39;00m\n\u001b[0;32m    365\u001b[0m \u001b[38;5;124;03m\"\"\"\u001b[39;00m\n\u001b[0;32m    366\u001b[0m \u001b[38;5;66;03m# Ensure 'Class / family' is set to 'Non-POI' where missing\u001b[39;00m\n\u001b[1;32m--> 367\u001b[0m merged_data[\u001b[38;5;124m'\u001b[39m\u001b[38;5;124mClass / family\u001b[39m\u001b[38;5;124m'\u001b[39m] \u001b[38;5;241m=\u001b[39m \u001b[43mmerged_data\u001b[49m\u001b[43m[\u001b[49m\u001b[38;5;124;43m'\u001b[39;49m\u001b[38;5;124;43mClass / family\u001b[39;49m\u001b[38;5;124;43m'\u001b[39;49m\u001b[43m]\u001b[49m\u001b[38;5;241m.\u001b[39mfillna(\u001b[38;5;124m'\u001b[39m\u001b[38;5;124mUnknown\u001b[39m\u001b[38;5;124m'\u001b[39m)\u001b[38;5;241m.\u001b[39mreplace(\u001b[38;5;124m'\u001b[39m\u001b[38;5;124mUnknown\u001b[39m\u001b[38;5;124m'\u001b[39m, \u001b[38;5;124m'\u001b[39m\u001b[38;5;124mNon-POI\u001b[39m\u001b[38;5;124m'\u001b[39m)\n\u001b[0;32m    369\u001b[0m \u001b[38;5;66;03m# Group by 'Class / family' to count unique proteins\u001b[39;00m\n\u001b[0;32m    370\u001b[0m unique_protein_counts \u001b[38;5;241m=\u001b[39m merged_data\u001b[38;5;241m.\u001b[39mgroupby(\u001b[38;5;124m'\u001b[39m\u001b[38;5;124mClass / family\u001b[39m\u001b[38;5;124m'\u001b[39m)[\u001b[38;5;124m'\u001b[39m\u001b[38;5;124mAccession\u001b[39m\u001b[38;5;124m'\u001b[39m]\u001b[38;5;241m.\u001b[39mnunique()\u001b[38;5;241m.\u001b[39mreset_index()\n",
      "\u001b[1;31mTypeError\u001b[0m: 'NoneType' object is not subscriptable"
     ]
    }
   ],
   "source": [
    "# BLOCK 3 - Overall Sample Composition and Interactive Class/Condition Selection\n",
    "\n",
    "# 1. Import the utility functions:\n",
    "from utils_mass_spec_analysis_singlicates import plot_overall_sample_composition\n",
    "\n",
    "# 2. First cell: Generate the overall sample abundance plots:\n",
    "plot_overall_sample_composition(preprocessor.merged_data, preprocessor.abundance_cols, preprocessor.color_map)\n",
    "\n"
   ]
  },
  {
   "cell_type": "markdown",
   "metadata": {},
   "source": [
    "## Select Classes / proteins of interest and Conditions / MS samples to analyzse\n",
    "In the next section, select one or more Classes and Conditions to analyze, and click the button to confirm\n",
    "\n",
    "**Note**: You can Control+Click (windows) or Command+Click (mac) to select multiple items!"
   ]
  },
  {
   "cell_type": "code",
   "execution_count": null,
   "metadata": {},
   "outputs": [
    {
     "data": {
      "application/vnd.jupyter.widget-view+json": {
       "model_id": "8c80335385c24b00945567bb2d7c46c9",
       "version_major": 2,
       "version_minor": 0
      },
      "text/plain": [
       "SelectMultiple(description='Select Class(es)', layout=Layout(width='50%'), options=('Non-POI (241 proteins)', …"
      ]
     },
     "metadata": {},
     "output_type": "display_data"
    },
    {
     "data": {
      "application/vnd.jupyter.widget-view+json": {
       "model_id": "e23a0d683dee4a62ab4f49764c18ddf0",
       "version_major": 2,
       "version_minor": 0
      },
      "text/plain": [
       "SelectMultiple(description='Select Conditions', layout=Layout(width='50%'), options=('1', '2', '3', '4', '5', …"
      ]
     },
     "metadata": {},
     "output_type": "display_data"
    },
    {
     "data": {
      "application/vnd.jupyter.widget-view+json": {
       "model_id": "a4e91160862b415e82f9f7aa0567e56d",
       "version_major": 2,
       "version_minor": 0
      },
      "text/plain": [
       "Button(description='Add classes/conditions to analysis', style=ButtonStyle())"
      ]
     },
     "metadata": {},
     "output_type": "display_data"
    },
    {
     "data": {
      "application/vnd.jupyter.widget-view+json": {
       "model_id": "466b6cc9a4c14ff38ac20506a6908b55",
       "version_major": 2,
       "version_minor": 0
      },
      "text/plain": [
       "Output()"
      ]
     },
     "metadata": {},
     "output_type": "display_data"
    }
   ],
   "source": [
    "# 3. Second cell: Interactive selection of classes and conditions:\n",
    "from utils_mass_spec_analysis_singlicates import display_class_condition_selection_widgets\n",
    "\n",
    "selection_results = display_class_condition_selection_widgets(preprocessor.merged_data, preprocessor.abundance_cols)\n"
   ]
  },
  {
   "cell_type": "markdown",
   "metadata": {},
   "source": [
    "## Select fields to display upon mouse hovering\n",
    "\n",
    "In the next block, you can configure which info you see when you hover the mouse over a data point in the subsequent plots "
   ]
  },
  {
   "cell_type": "code",
   "execution_count": null,
   "metadata": {},
   "outputs": [
    {
     "data": {
      "application/vnd.jupyter.widget-view+json": {
       "model_id": "544041cc146c4dc3bfd0a2e1e6d045b3",
       "version_major": 2,
       "version_minor": 0
      },
      "text/plain": [
       "VBox(children=(Label(value='Select fields to include in hover text:'), VBox(children=(Checkbox(value=True, des…"
      ]
     },
     "metadata": {},
     "output_type": "display_data"
    }
   ],
   "source": [
    "from utils_mass_spec_analysis_singlicates import InteractiveFieldSelector\n",
    "\n",
    "# Ensure preprocessor.merged_data is built\n",
    "field_selector = InteractiveFieldSelector(\n",
    "    data=preprocessor.merged_data,\n",
    "    default_hover_fields=[\"Accession\", \"Description\"],\n",
    "    exclude_fields=preprocessor.abundance_cols  # Exclude abundance columns\n",
    ")\n",
    "\n",
    "# Display only the hover configuration (or the full interface)\n",
    "field_selector.display_hover_only()\n",
    "\n"
   ]
  },
  {
   "cell_type": "markdown",
   "metadata": {},
   "source": [
    "## Ranked abundance plots\n",
    "\n",
    "The next plot displazs the ranked abundance of your POIs. \n",
    "**Notes** - You can search for proteins using the seach box. All proteins that partially match the text string in either the **uniprot ID** or **Gene name** will be highlighzed.\n",
    "- You can toggle which proteins are highlighted by clicking on the legend, and also configure if they should be included in the saved files or not using the buttons below.\n",
    "- You can slo save all protiens above a certain cutoff to a csv file"
   ]
  },
  {
   "cell_type": "code",
   "execution_count": null,
   "metadata": {},
   "outputs": [
    {
     "data": {
      "application/vnd.jupyter.widget-view+json": {
       "model_id": "5f49753a6da94488af6b8bee11ad2e40",
       "version_major": 2,
       "version_minor": 0
      },
      "text/plain": [
       "FigureWidget({\n",
       "    'data': [{'hoverinfo': 'text',\n",
       "              'hovertext': array(['cont_P00761<br>Trypsin OS=Sus scrofa PE=1 SV=1',\n",
       "                                  'cont_P04264; P04264<br>Keratin, type II cytoskeletal 1 OS=Homo sapiens GN=KRT1 PE=1 SV=6<|>Keratin, type II cytoskeletal 1 OS=Homo sapiens OX=9606 GN=KRT1 PE=1 SV=6',\n",
       "                                  'cont_P13645; P13645<br>Keratin, type I cytoskeletal 10 OS=Homo sapiens GN=KRT10 PE=1 SV=6<|>Keratin, type I cytoskeletal 10 OS=Homo sapiens OX=9606 GN=KRT10 PE=1 SV=6',\n",
       "                                  ...,\n",
       "                                  'A0A0B4J1V6<br>Immunoglobulin heavy variable 3-73 OS=Homo sapiens OX=9606 GN=IGHV3-73 PE=1 SV=1',\n",
       "                                  'P46776<br>Large ribosomal subunit protein uL15 OS=Homo sapiens OX=9606 GN=RPL27A PE=1 SV=2',\n",
       "                                  'Q9Y388<br>RNA-binding motif protein, X-linked 2 OS=Homo sapiens OX=9606 GN=RBMX2 PE=1 SV=2'],\n",
       "                                 dtype=object),\n",
       "              'marker': {'color': '#D3D3D3', 'opacity': 0.5, 'size': 5},\n",
       "              'mode': 'markers',\n",
       "              'name': 'All Proteins (BG)',\n",
       "              'type': 'scatter',\n",
       "              'uid': '8505d6b5-4d05-481c-9419-63247c82576e',\n",
       "              'x': array([  0,   1,   2, ..., 380, 381, 382]),\n",
       "              'y': array([9.1781971 , 8.32291144, 8.18776401, ..., 0.        , 0.        ,\n",
       "                          0.        ])},\n",
       "             {'hoverinfo': 'text',\n",
       "              'hovertext': array(['P36954<br>DNA-directed RNA polymerase II subunit RPB9 OS=Homo sapiens OX=9606 GN=POLR2I PE=1 SV=1',\n",
       "                                  'P62875<br>DNA-directed RNA polymerases I, II, and III subunit RPABC5 OS=Homo sapiens OX=9606 GN=POLR2L PE=1 SV=1',\n",
       "                                  'P52435<br>DNA-directed RNA polymerase II subunit RPB11-a OS=Homo sapiens OX=9606 GN=POLR2J PE=1 SV=1',\n",
       "                                  'O15514<br>DNA-directed RNA polymerase II subunit RPB4 OS=Homo sapiens OX=9606 GN=POLR2D PE=1 SV=1',\n",
       "                                  'P0CAP2<br>DNA-directed RNA polymerase II subunit GRINL1A OS=Homo sapiens OX=9606 GN=POLR2M PE=1 SV=1',\n",
       "                                  'P52434<br>DNA-directed RNA polymerases I, II, and III subunit RPABC3 OS=Homo sapiens OX=9606 GN=POLR2H PE=1 SV=4',\n",
       "                                  'P62487<br>DNA-directed RNA polymerase II subunit RPB7 OS=Homo sapiens OX=9606 GN=POLR2G PE=1 SV=1',\n",
       "                                  'P19388<br>DNA-directed RNA polymerases I, II, and III subunit RPABC1 OS=Homo sapiens OX=9606 GN=POLR2E PE=1 SV=4',\n",
       "                                  'P30876<br>DNA-directed RNA polymerase II subunit RPB2 OS=Homo sapiens OX=9606 GN=POLR2B PE=1 SV=1'],\n",
       "                                 dtype=object),\n",
       "              'marker': {'color': '#000000', 'line': {'color': 'black', 'width': 1}, 'opacity': 0.8, 'size': 10},\n",
       "              'mode': 'markers',\n",
       "              'name': 'Pol II Core',\n",
       "              'textposition': 'top center',\n",
       "              'type': 'scatter',\n",
       "              'uid': '441987b7-b094-4c05-a200-2ba664f38d52',\n",
       "              'x': array([ 91, 108, 143, 145, 148, 324, 325, 329, 340]),\n",
       "              'y': array([4.46709932, 4.46709932, 4.46709932, 4.46709932, 4.46709932, 4.46709932,\n",
       "                          4.46709932, 4.46709932, 4.46709932])},\n",
       "             {'hoverinfo': 'text',\n",
       "              'hovertext': array(['O60306<br>RNA helicase aquarius OS=Homo sapiens OX=9606 GN=AQR PE=1 SV=4',\n",
       "                                  'Q9Y3C6<br>Peptidyl-prolyl cis-trans isomerase-like 1 OS=Homo sapiens OX=9606 GN=PPIL1 PE=1 SV=1',\n",
       "                                  'Q9UNP9<br>Peptidyl-prolyl cis-trans isomerase E OS=Homo sapiens OX=9606 GN=PPIE PE=1 SV=1',\n",
       "                                  'Q13573<br>SNW domain-containing protein 1 OS=Homo sapiens OX=9606 GN=SNW1 PE=1 SV=1',\n",
       "                                  'Q9BZJ0<br>Crooked neck-like protein 1 OS=Homo sapiens OX=9606 GN=CRNKL1 PE=1 SV=4',\n",
       "                                  'Q9NW64<br>Pre-mRNA-splicing factor RBM22 OS=Homo sapiens OX=9606 GN=RBM22 PE=1 SV=1',\n",
       "                                  'Q9HCS7<br>Pre-mRNA-splicing factor SYF1 OS=Homo sapiens OX=9606 GN=XAB2 PE=1 SV=2',\n",
       "                                  'Q9ULR0<br>Pre-mRNA-splicing factor ISY1 homolog OS=Homo sapiens OX=9606 GN=ISY1 PE=1 SV=3'],\n",
       "                                 dtype=object),\n",
       "              'marker': {'color': '#b630cf', 'line': {'color': 'black', 'width': 1}, 'opacity': 0.8, 'size': 10},\n",
       "              'mode': 'markers',\n",
       "              'name': 'PRP19 related',\n",
       "              'textposition': 'top center',\n",
       "              'type': 'scatter',\n",
       "              'uid': '25d61f0c-afa3-493c-9471-c783af3def3d',\n",
       "              'x': array([ 40,  44,  68, 121, 149, 153, 154, 209]),\n",
       "              'y': array([5.53931994, 5.46906307, 4.92313059, 4.46709932, 4.46709932, 4.46709932,\n",
       "                          4.46709932, 4.46709932])}],\n",
       "    'layout': {'height': 600,\n",
       "               'legend': {'title': {'text': 'Classes'}},\n",
       "               'template': '...',\n",
       "               'title': {'text': 'Ranked Abundance: 2 (All Highlighted Classes)'},\n",
       "               'width': 900,\n",
       "               'xaxis': {'title': {'text': 'Protein Rank (descending abundance)'}},\n",
       "               'yaxis': {'title': {'text': 'log10(Abundance + 1)'}}}\n",
       "})"
      ]
     },
     "metadata": {},
     "output_type": "display_data"
    },
    {
     "data": {
      "application/vnd.jupyter.widget-view+json": {
       "model_id": "454c877a7da14f6caafb7b24c429c68a",
       "version_major": 2,
       "version_minor": 0
      },
      "text/plain": [
       "Label(value='Click checkboxes below to include/exclude those traces in the saved figure:')"
      ]
     },
     "metadata": {},
     "output_type": "display_data"
    },
    {
     "data": {
      "application/vnd.jupyter.widget-view+json": {
       "model_id": "a9d083499ed045f0bcfa950f8e11946d",
       "version_major": 2,
       "version_minor": 0
      },
      "text/plain": [
       "VBox(children=(HBox(children=(Button(description='Toggle All Traces', style=ButtonStyle()),)), HBox(children=(…"
      ]
     },
     "metadata": {},
     "output_type": "display_data"
    },
    {
     "data": {
      "application/vnd.jupyter.widget-view+json": {
       "model_id": "f501d2f5db6f417c92b70ad8a80222b5",
       "version_major": 2,
       "version_minor": 0
      },
      "text/plain": [
       "FigureWidget({\n",
       "    'data': [{'hoverinfo': 'text',\n",
       "              'hovertext': array(['cont_P00761<br>Trypsin OS=Sus scrofa PE=1 SV=1',\n",
       "                                  'cont_P04264; P04264<br>Keratin, type II cytoskeletal 1 OS=Homo sapiens GN=KRT1 PE=1 SV=6<|>Keratin, type II cytoskeletal 1 OS=Homo sapiens OX=9606 GN=KRT1 PE=1 SV=6',\n",
       "                                  'cont_P13645; P13645<br>Keratin, type I cytoskeletal 10 OS=Homo sapiens GN=KRT10 PE=1 SV=6<|>Keratin, type I cytoskeletal 10 OS=Homo sapiens OX=9606 GN=KRT10 PE=1 SV=6',\n",
       "                                  ...,\n",
       "                                  'A0A0B4J1V6<br>Immunoglobulin heavy variable 3-73 OS=Homo sapiens OX=9606 GN=IGHV3-73 PE=1 SV=1',\n",
       "                                  'P46776<br>Large ribosomal subunit protein uL15 OS=Homo sapiens OX=9606 GN=RPL27A PE=1 SV=2',\n",
       "                                  'Q9Y388<br>RNA-binding motif protein, X-linked 2 OS=Homo sapiens OX=9606 GN=RBMX2 PE=1 SV=2'],\n",
       "                                 dtype=object),\n",
       "              'marker': {'color': '#D3D3D3', 'opacity': 0.5, 'size': 5},\n",
       "              'mode': 'markers',\n",
       "              'name': 'All Proteins (BG)',\n",
       "              'type': 'scatter',\n",
       "              'uid': 'c8d578ec-4991-4ded-9bde-910d05128a02',\n",
       "              'x': array([  0,   1,   2, ..., 380, 381, 382]),\n",
       "              'y': array([10.02916228,  8.47210877,  8.39429557, ...,  0.        ,  0.        ,\n",
       "                           0.        ])},\n",
       "             {'hoverinfo': 'text',\n",
       "              'hovertext': array(['P0CAP2<br>DNA-directed RNA polymerase II subunit GRINL1A OS=Homo sapiens OX=9606 GN=POLR2M PE=1 SV=1',\n",
       "                                  'P62875<br>DNA-directed RNA polymerases I, II, and III subunit RPABC5 OS=Homo sapiens OX=9606 GN=POLR2L PE=1 SV=1',\n",
       "                                  'P62487<br>DNA-directed RNA polymerase II subunit RPB7 OS=Homo sapiens OX=9606 GN=POLR2G PE=1 SV=1',\n",
       "                                  'P52434<br>DNA-directed RNA polymerases I, II, and III subunit RPABC3 OS=Homo sapiens OX=9606 GN=POLR2H PE=1 SV=4',\n",
       "                                  'P36954<br>DNA-directed RNA polymerase II subunit RPB9 OS=Homo sapiens OX=9606 GN=POLR2I PE=1 SV=1',\n",
       "                                  'P30876<br>DNA-directed RNA polymerase II subunit RPB2 OS=Homo sapiens OX=9606 GN=POLR2B PE=1 SV=1',\n",
       "                                  'P19388<br>DNA-directed RNA polymerases I, II, and III subunit RPABC1 OS=Homo sapiens OX=9606 GN=POLR2E PE=1 SV=4',\n",
       "                                  'P52435<br>DNA-directed RNA polymerase II subunit RPB11-a OS=Homo sapiens OX=9606 GN=POLR2J PE=1 SV=1',\n",
       "                                  'O15514<br>DNA-directed RNA polymerase II subunit RPB4 OS=Homo sapiens OX=9606 GN=POLR2D PE=1 SV=1'],\n",
       "                                 dtype=object),\n",
       "              'marker': {'color': '#000000', 'line': {'color': 'black', 'width': 1}, 'opacity': 0.8, 'size': 10},\n",
       "              'mode': 'markers',\n",
       "              'name': 'Pol II Core',\n",
       "              'textposition': 'top center',\n",
       "              'type': 'scatter',\n",
       "              'uid': 'c31d901f-8f23-4fb8-939f-0d3a805259cc',\n",
       "              'x': array([197, 200, 233, 234, 237, 252, 253, 256, 265]),\n",
       "              'y': array([4.32921644, 4.32921644, 4.32921644, 4.32921644, 4.32921644, 4.32921644,\n",
       "                          4.32921644, 4.32921644, 4.32921644])},\n",
       "             {'hoverinfo': 'text',\n",
       "              'hovertext': array(['Q13573<br>SNW domain-containing protein 1 OS=Homo sapiens OX=9606 GN=SNW1 PE=1 SV=1',\n",
       "                                  'O60306<br>RNA helicase aquarius OS=Homo sapiens OX=9606 GN=AQR PE=1 SV=4',\n",
       "                                  'Q9Y3C6<br>Peptidyl-prolyl cis-trans isomerase-like 1 OS=Homo sapiens OX=9606 GN=PPIL1 PE=1 SV=1',\n",
       "                                  'Q9HCS7<br>Pre-mRNA-splicing factor SYF1 OS=Homo sapiens OX=9606 GN=XAB2 PE=1 SV=2',\n",
       "                                  'Q9NW64<br>Pre-mRNA-splicing factor RBM22 OS=Homo sapiens OX=9606 GN=RBM22 PE=1 SV=1',\n",
       "                                  'Q9BZJ0<br>Crooked neck-like protein 1 OS=Homo sapiens OX=9606 GN=CRNKL1 PE=1 SV=4',\n",
       "                                  'Q9UNP9<br>Peptidyl-prolyl cis-trans isomerase E OS=Homo sapiens OX=9606 GN=PPIE PE=1 SV=1',\n",
       "                                  'Q9ULR0<br>Pre-mRNA-splicing factor ISY1 homolog OS=Homo sapiens OX=9606 GN=ISY1 PE=1 SV=3'],\n",
       "                                 dtype=object),\n",
       "              'marker': {'color': '#b630cf', 'line': {'color': 'black', 'width': 1}, 'opacity': 0.8, 'size': 10},\n",
       "              'mode': 'markers',\n",
       "              'name': 'PRP19 related',\n",
       "              'textposition': 'top center',\n",
       "              'type': 'scatter',\n",
       "              'uid': '7efc07d6-ec5a-49e4-90fd-2edb34744ede',\n",
       "              'x': array([ 50,  74,  86,  88, 106, 114, 154, 171]),\n",
       "              'y': array([6.03649622, 5.81028032, 5.66360605, 5.65608376, 5.46173386, 5.36584343,\n",
       "                          4.91521054, 4.72546407])}],\n",
       "    'layout': {'height': 600,\n",
       "               'legend': {'title': {'text': 'Classes'}},\n",
       "               'template': '...',\n",
       "               'title': {'text': 'Ranked Abundance: 4 (All Highlighted Classes)'},\n",
       "               'width': 900,\n",
       "               'xaxis': {'title': {'text': 'Protein Rank (descending abundance)'}},\n",
       "               'yaxis': {'title': {'text': 'log10(Abundance + 1)'}}}\n",
       "})"
      ]
     },
     "metadata": {},
     "output_type": "display_data"
    },
    {
     "data": {
      "application/vnd.jupyter.widget-view+json": {
       "model_id": "4e33c22bb83647558ca5bcee744a8438",
       "version_major": 2,
       "version_minor": 0
      },
      "text/plain": [
       "Label(value='Click checkboxes below to include/exclude those traces in the saved figure:')"
      ]
     },
     "metadata": {},
     "output_type": "display_data"
    },
    {
     "data": {
      "application/vnd.jupyter.widget-view+json": {
       "model_id": "667b812c1c7f4dcdb532e9997e1deeb9",
       "version_major": 2,
       "version_minor": 0
      },
      "text/plain": [
       "VBox(children=(HBox(children=(Button(description='Toggle All Traces', style=ButtonStyle()),)), HBox(children=(…"
      ]
     },
     "metadata": {},
     "output_type": "display_data"
    },
    {
     "name": "stdout",
     "output_type": "stream",
     "text": [
      "\n",
      "All done!\n"
     ]
    }
   ],
   "source": [
    "from utils_mass_spec_analysis_singlicates import run_ranked_abundance_analysis\n",
    "\n",
    "# Retrieve the hover fields from the field selector\n",
    "hover_fields = field_selector.get_selected_hover_fields()\n",
    "\n",
    "# Call run_ranked_abundance_analysis as before, now including hover_fields.\n",
    "run_ranked_abundance_analysis(\n",
    "    merged_data=preprocessor.merged_data,\n",
    "    conditions_to_plot=selection_results[\"conditions_to_plot\"],\n",
    "    classes_to_plot=selection_results[\"classes_to_plot\"],\n",
    "    color_map=preprocessor.color_map,\n",
    "    mass_spec_file_path=mass_spec_file_path,\n",
    "    output_directory_input=output_directory_input,  # or \"\" for default\n",
    "    hover_fields=hover_fields\n",
    ")\n"
   ]
  },
  {
   "cell_type": "markdown",
   "metadata": {},
   "source": [
    "## Protein abundance changes between conditions\n",
    "**Notes:** \n",
    "- You have the option to normalise the abundance of proteins in the selected conditions/samples to a reference protein indicated by its uniprot accession. To enable, edit the first two lines in the code block\n",
    "- You can export hits tha are enriched above /below a certain threshold using the Export Hits button. Negative values will export all hits below that fold change value, positive values will export all hits above that fold change value"
   ]
  },
  {
   "cell_type": "code",
   "execution_count": null,
   "metadata": {},
   "outputs": [
    {
     "data": {
      "application/vnd.jupyter.widget-view+json": {
       "model_id": "da96665c7b2c47adac21a8d27a58602e",
       "version_major": 2,
       "version_minor": 0
      },
      "text/plain": [
       "FigureWidget({\n",
       "    'data': [{'hoverinfo': 'text',\n",
       "              'hovertext': array(['O75223<br>Gamma-glutamylcyclotransferase OS=Homo sapiens OX=9606 GN=GGCT PE=1 SV=1',\n",
       "                                  'P52272<br>Heterogeneous nuclear ribonucleoprotein M OS=Homo sapiens OX=9606 GN=HNRNPM PE=1 SV=3',\n",
       "                                  'P62316<br>Small nuclear ribonucleoprotein Sm D2 OS=Homo sapiens OX=9606 GN=SNRPD2 PE=1 SV=1',\n",
       "                                  ...,\n",
       "                                  'A0A0B4J1V6<br>Immunoglobulin heavy variable 3-73 OS=Homo sapiens OX=9606 GN=IGHV3-73 PE=1 SV=1',\n",
       "                                  'P46776<br>Large ribosomal subunit protein uL15 OS=Homo sapiens OX=9606 GN=RPL27A PE=1 SV=2',\n",
       "                                  'Q9Y388<br>RNA-binding motif protein, X-linked 2 OS=Homo sapiens OX=9606 GN=RBMX2 PE=1 SV=2'],\n",
       "                                 dtype=object),\n",
       "              'marker': {'color': '#D3D3D3', 'opacity': 0.4, 'size': 6},\n",
       "              'mode': 'markers',\n",
       "              'name': 'Other Proteins',\n",
       "              'type': 'scatter',\n",
       "              'uid': '4fdc0b40-1b7c-484b-9d3a-00dd9ef81560',\n",
       "              'x': array([-0.0012546 ,  0.00450714,  0.00231994, ...,         nan,         nan,\n",
       "                                  nan]),\n",
       "              'y': array([9.16239161, 7.26752106, 6.89899745, ...,        nan,        nan,\n",
       "                                 nan])},\n",
       "             {'hoverinfo': 'text',\n",
       "              'hovertext': array(['P0CAP2<br>DNA-directed RNA polymerase II subunit GRINL1A OS=Homo sapiens OX=9606 GN=POLR2M PE=1 SV=1',\n",
       "                                  'P52435<br>DNA-directed RNA polymerase II subunit RPB11-a OS=Homo sapiens OX=9606 GN=POLR2J PE=1 SV=1',\n",
       "                                  'O15514<br>DNA-directed RNA polymerase II subunit RPB4 OS=Homo sapiens OX=9606 GN=POLR2D PE=1 SV=1',\n",
       "                                  'P30876<br>DNA-directed RNA polymerase II subunit RPB2 OS=Homo sapiens OX=9606 GN=POLR2B PE=1 SV=1',\n",
       "                                  'P62875<br>DNA-directed RNA polymerases I, II, and III subunit RPABC5 OS=Homo sapiens OX=9606 GN=POLR2L PE=1 SV=1',\n",
       "                                  'P36954<br>DNA-directed RNA polymerase II subunit RPB9 OS=Homo sapiens OX=9606 GN=POLR2I PE=1 SV=1',\n",
       "                                  'P52434<br>DNA-directed RNA polymerases I, II, and III subunit RPABC3 OS=Homo sapiens OX=9606 GN=POLR2H PE=1 SV=4',\n",
       "                                  'P62487<br>DNA-directed RNA polymerase II subunit RPB7 OS=Homo sapiens OX=9606 GN=POLR2G PE=1 SV=1',\n",
       "                                  'P19388<br>DNA-directed RNA polymerases I, II, and III subunit RPABC1 OS=Homo sapiens OX=9606 GN=POLR2E PE=1 SV=4'],\n",
       "                                 dtype=object),\n",
       "              'marker': {'color': '#000000', 'line': {'color': 'black', 'width': 1}, 'opacity': 0.8, 'size': 10},\n",
       "              'mode': 'markers',\n",
       "              'name': 'Pol II Core',\n",
       "              'textposition': 'top center',\n",
       "              'type': 'scatter',\n",
       "              'uid': '557db418-060e-4999-8770-d4afed310d0a',\n",
       "              'x': array([ 0.01496329,  0.03492234,  0.01311386,  0.00026371, -0.0183078 ,\n",
       "                           0.03093612,  0.00313546,  0.04758521,  0.02145959]),\n",
       "              'y': array([-0.45805543, -0.45805543, -0.45805543, -0.45805543, -0.45805543,\n",
       "                          -0.45805543, -0.45805543, -0.45805543, -0.45805543])},\n",
       "             {'hoverinfo': 'text',\n",
       "              'hovertext': array(['Q13573<br>SNW domain-containing protein 1 OS=Homo sapiens OX=9606 GN=SNW1 PE=1 SV=1',\n",
       "                                  'Q9HCS7<br>Pre-mRNA-splicing factor SYF1 OS=Homo sapiens OX=9606 GN=XAB2 PE=1 SV=2',\n",
       "                                  'Q9NW64<br>Pre-mRNA-splicing factor RBM22 OS=Homo sapiens OX=9606 GN=RBM22 PE=1 SV=1',\n",
       "                                  'Q9BZJ0<br>Crooked neck-like protein 1 OS=Homo sapiens OX=9606 GN=CRNKL1 PE=1 SV=4',\n",
       "                                  'O60306<br>RNA helicase aquarius OS=Homo sapiens OX=9606 GN=AQR PE=1 SV=4',\n",
       "                                  'Q9ULR0<br>Pre-mRNA-splicing factor ISY1 homolog OS=Homo sapiens OX=9606 GN=ISY1 PE=1 SV=3',\n",
       "                                  'Q9Y3C6<br>Peptidyl-prolyl cis-trans isomerase-like 1 OS=Homo sapiens OX=9606 GN=PPIL1 PE=1 SV=1',\n",
       "                                  'Q9UNP9<br>Peptidyl-prolyl cis-trans isomerase E OS=Homo sapiens OX=9606 GN=PPIE PE=1 SV=1'],\n",
       "                                 dtype=object),\n",
       "              'marker': {'color': '#b630cf', 'line': {'color': 'black', 'width': 1}, 'opacity': 0.8, 'size': 10},\n",
       "              'mode': 'markers',\n",
       "              'name': 'PRP19 related',\n",
       "              'textposition': 'top center',\n",
       "              'type': 'scatter',\n",
       "              'uid': 'aaf78eed-b2f0-43d3-934e-64269c48714e',\n",
       "              'x': array([ 0.00133272, -0.00188289, -0.00161533,  0.00517965,  0.00199866,\n",
       "                          -0.00473557,  0.00172972,  0.00141927]),\n",
       "              'y': array([ 5.21347153,  3.94976683,  3.30414863,  2.9856063 ,  0.90011284,\n",
       "                           0.85829119,  0.64625953, -0.02631015])}],\n",
       "    'layout': {'height': 600,\n",
       "               'legend': {'title': {'text': 'Classes'}},\n",
       "               'template': '...',\n",
       "               'title': {'text': 'Log2(FC): 4 vs 2'},\n",
       "               'width': 900,\n",
       "               'xaxis': {'showgrid': False, 'showticklabels': False, 'title': {'text': ''}, 'zeroline': False},\n",
       "               'yaxis': {'title': {'text': '4 vs 2 (Log2 Fold Change)'}}}\n",
       "})"
      ]
     },
     "metadata": {},
     "output_type": "display_data"
    },
    {
     "data": {
      "application/vnd.jupyter.widget-view+json": {
       "model_id": "f5f232698bcb46489dfaa01df3f421ed",
       "version_major": 2,
       "version_minor": 0
      },
      "text/plain": [
       "Label(value='Toggle traces below for saving (PDF/HTML):')"
      ]
     },
     "metadata": {},
     "output_type": "display_data"
    },
    {
     "data": {
      "application/vnd.jupyter.widget-view+json": {
       "model_id": "799cac20df7a4deb946e2413f8c15a32",
       "version_major": 2,
       "version_minor": 0
      },
      "text/plain": [
       "VBox(children=(HBox(children=(Button(description='Toggle All Traces', style=ButtonStyle()),)), HBox(children=(…"
      ]
     },
     "metadata": {},
     "output_type": "display_data"
    },
    {
     "name": "stdout",
     "output_type": "stream",
     "text": [
      "\n",
      "All log2-FC plots displayed with interactive UI.\n",
      "Search, highlight, clear, toggle, save, or export hits as desired!\n"
     ]
    }
   ],
   "source": [
    "# BLOCK 6: Reference Protein Input (Notebook cell)\n",
    "plot_normalized_data = False  # Set True to plot normalized data, False for raw data\n",
    "reference_protein_accession = 'Q9UMS4'  # Set to None if you don't want normalization\n",
    "\n",
    "\n",
    "from utils_mass_spec_analysis_singlicates import (\n",
    "    normalize_data,\n",
    "    prepare_log2_fold_changes,\n",
    "    create_log2_fc_figure_widget,\n",
    "    show_log2_fc_plot,\n",
    "    set_default_output_directory\n",
    ")\n",
    "from itertools import combinations\n",
    "from datetime import datetime\n",
    "import os\n",
    "\n",
    "\n",
    "# Retrieve hover fields selected by the user:\n",
    "hover_fields = field_selector.get_selected_hover_fields()\n",
    "conditions_to_plot = selection_results[\"conditions_to_plot\"]\n",
    "if plot_normalized_data and reference_protein_accession:\n",
    "    preprocessor.merged_data = normalize_data(preprocessor.merged_data, reference_protein_accession, conditions_to_plot)\n",
    "\n",
    "preprocessor.merged_data = prepare_log2_fold_changes(\n",
    "    preprocessor.merged_data,\n",
    "    conditions_to_plot,\n",
    "    reference_protein=reference_protein_accession,\n",
    "    use_normalized=plot_normalized_data\n",
    ")\n",
    "\n",
    "output_directory = output_directory_input or set_default_output_directory(mass_spec_file_path)\n",
    "os.makedirs(output_directory, exist_ok=True)\n",
    "timestamp = datetime.now().strftime(\"%Y%m%d_%H%M%S\")\n",
    "\n",
    "for cond1, cond2 in combinations(conditions_to_plot, 2):\n",
    "    fig_widget, sorted_data, col_name = create_log2_fc_figure_widget(\n",
    "        data=preprocessor.merged_data,\n",
    "        cond1=cond1,\n",
    "        cond2=cond2,\n",
    "        classes_to_highlight=selection_results[\"classes_to_plot\"],\n",
    "        color_map=preprocessor.color_map,\n",
    "        reference_protein=reference_protein_accession,\n",
    "        use_normalized=plot_normalized_data,\n",
    "        add_labels_for_pdf=False,\n",
    "        hover_fields=hover_fields   # Pass the selected hover fields here\n",
    "    )\n",
    "    show_log2_fc_plot(\n",
    "        fig_widget=fig_widget,\n",
    "        sorted_data=sorted_data,\n",
    "        col_name=col_name,\n",
    "        cond1=cond1,\n",
    "        cond2=cond2,\n",
    "        output_dir=output_directory,\n",
    "        timestamp=timestamp,\n",
    "        default_threshold=1.0\n",
    "    )\n",
    "\n",
    "print(\"\\nAll log2-FC plots displayed with interactive UI.\\nSearch, highlight, clear, toggle, save, or export hits as desired!\")\n"
   ]
  },
  {
   "cell_type": "markdown",
   "metadata": {},
   "source": [
    "## Violin plots of proteins belonging to Class/Family for all conditiomns\n",
    "\n",
    "The next plot will generate violin plots showing individual proteins belonging to the seleted Classes/Familys and their abundance in different samples!\n",
    "**Note:** You can normalise the data to a reference protein as before!"
   ]
  },
  {
   "cell_type": "code",
   "execution_count": null,
   "metadata": {},
   "outputs": [
    {
     "name": "stdout",
     "output_type": "stream",
     "text": [
      "Normalized 2 using Q6P2Q9.\n",
      "Normalized 4 using Q6P2Q9.\n"
     ]
    },
    {
     "data": {
      "application/vnd.plotly.v1+json": {
       "config": {
        "plotlyServerURL": "https://plot.ly"
       },
       "data": [
        {
         "box": {
          "visible": true
         },
         "fillcolor": "#f77189",
         "hoverinfo": "skip",
         "line": {
          "color": "rgba(0, 0, 0, 0)"
         },
         "meanline": {
          "visible": true
         },
         "name": "2_normalized_Q6P2Q9",
         "opacity": 0.6,
         "pointpos": 0,
         "points": "all",
         "type": "violin",
         "x": [
          0,
          0,
          0,
          0,
          0,
          0,
          0,
          0,
          0
         ],
         "y": [
          1,
          1,
          1,
          1,
          1,
          1,
          1,
          1,
          1
         ]
        },
        {
         "hoverinfo": "text",
         "hovertext": [
          "P30876<br>DNA-directed RNA polymerase II subunit RPB2 OS=Homo sapiens OX=9606 GN=POLR2B PE=1 SV=1",
          "P19388<br>DNA-directed RNA polymerases I, II, and III subunit RPABC1 OS=Homo sapiens OX=9606 GN=POLR2E PE=1 SV=4",
          "P62487<br>DNA-directed RNA polymerase II subunit RPB7 OS=Homo sapiens OX=9606 GN=POLR2G PE=1 SV=1",
          "P52434<br>DNA-directed RNA polymerases I, II, and III subunit RPABC3 OS=Homo sapiens OX=9606 GN=POLR2H PE=1 SV=4",
          "P62875<br>DNA-directed RNA polymerases I, II, and III subunit RPABC5 OS=Homo sapiens OX=9606 GN=POLR2L PE=1 SV=1",
          "P36954<br>DNA-directed RNA polymerase II subunit RPB9 OS=Homo sapiens OX=9606 GN=POLR2I PE=1 SV=1",
          "P52435<br>DNA-directed RNA polymerase II subunit RPB11-a OS=Homo sapiens OX=9606 GN=POLR2J PE=1 SV=1",
          "P0CAP2<br>DNA-directed RNA polymerase II subunit GRINL1A OS=Homo sapiens OX=9606 GN=POLR2M PE=1 SV=1",
          "O15514<br>DNA-directed RNA polymerase II subunit RPB4 OS=Homo sapiens OX=9606 GN=POLR2D PE=1 SV=1"
         ],
         "marker": {
          "color": "black",
          "line": {
           "color": "white",
           "width": 1
          },
          "opacity": 1,
          "size": 6
         },
         "mode": "markers+text",
         "text": [
          "POLR2B",
          "POLR2E",
          "POLR2G",
          "POLR2H",
          "POLR2L",
          "POLR2I",
          "POLR2J",
          "POLR2M",
          "POLR2D"
         ],
         "textposition": "top center",
         "type": "scatter",
         "x": [
          0.0401158010490989,
          -0.045455361965854216,
          -0.02190368104077697,
          0.04504114840765587,
          0.039026378389091634,
          -0.004434324721428705,
          0.012013259780153676,
          -0.022261881701886733,
          -0.03118788402762387
         ],
         "y": [
          1,
          1,
          1,
          1,
          1,
          1,
          1,
          1,
          1
         ]
        },
        {
         "box": {
          "visible": true
         },
         "fillcolor": "#36ada4",
         "hoverinfo": "skip",
         "line": {
          "color": "rgba(0, 0, 0, 0)"
         },
         "meanline": {
          "visible": true
         },
         "name": "4_normalized_Q6P2Q9",
         "opacity": 0.6,
         "pointpos": 0,
         "points": "all",
         "type": "violin",
         "x": [
          1,
          1,
          1,
          1,
          1,
          1,
          1,
          1,
          1
         ],
         "y": [
          0.009660831975422318,
          0.009660831975422318,
          0.009660831975422318,
          0.009660831975422318,
          0.009660831975422318,
          0.009660831975422318,
          0.009660831975422318,
          0.009660831975422318,
          0.009660831975422318
         ]
        },
        {
         "hoverinfo": "text",
         "hovertext": [
          "P30876<br>DNA-directed RNA polymerase II subunit RPB2 OS=Homo sapiens OX=9606 GN=POLR2B PE=1 SV=1",
          "P19388<br>DNA-directed RNA polymerases I, II, and III subunit RPABC1 OS=Homo sapiens OX=9606 GN=POLR2E PE=1 SV=4",
          "P62487<br>DNA-directed RNA polymerase II subunit RPB7 OS=Homo sapiens OX=9606 GN=POLR2G PE=1 SV=1",
          "P52434<br>DNA-directed RNA polymerases I, II, and III subunit RPABC3 OS=Homo sapiens OX=9606 GN=POLR2H PE=1 SV=4",
          "P62875<br>DNA-directed RNA polymerases I, II, and III subunit RPABC5 OS=Homo sapiens OX=9606 GN=POLR2L PE=1 SV=1",
          "P36954<br>DNA-directed RNA polymerase II subunit RPB9 OS=Homo sapiens OX=9606 GN=POLR2I PE=1 SV=1",
          "P52435<br>DNA-directed RNA polymerase II subunit RPB11-a OS=Homo sapiens OX=9606 GN=POLR2J PE=1 SV=1",
          "P0CAP2<br>DNA-directed RNA polymerase II subunit GRINL1A OS=Homo sapiens OX=9606 GN=POLR2M PE=1 SV=1",
          "O15514<br>DNA-directed RNA polymerase II subunit RPB4 OS=Homo sapiens OX=9606 GN=POLR2D PE=1 SV=1"
         ],
         "marker": {
          "color": "black",
          "line": {
           "color": "white",
           "width": 1
          },
          "opacity": 1,
          "size": 6
         },
         "mode": "markers+text",
         "text": [
          "POLR2B",
          "POLR2E",
          "POLR2G",
          "POLR2H",
          "POLR2L",
          "POLR2I",
          "POLR2J",
          "POLR2M",
          "POLR2D"
         ],
         "textposition": "top center",
         "type": "scatter",
         "x": [
          0.9963698404939982,
          0.9853352228026053,
          1.0083656111850872,
          0.9577734636964985,
          1.0474394807666167,
          1.0486210744479603,
          1.0198161714019744,
          1.003609636634412,
          0.9809527616286328
         ],
         "y": [
          0.009660831975422318,
          0.009660831975422318,
          0.009660831975422318,
          0.009660831975422318,
          0.009660831975422318,
          0.009660831975422318,
          0.009660831975422318,
          0.009660831975422318,
          0.009660831975422318
         ]
        }
       ],
       "layout": {
        "height": 600,
        "showlegend": false,
        "template": {
         "data": {
          "bar": [
           {
            "error_x": {
             "color": "#2a3f5f"
            },
            "error_y": {
             "color": "#2a3f5f"
            },
            "marker": {
             "line": {
              "color": "white",
              "width": 0.5
             },
             "pattern": {
              "fillmode": "overlay",
              "size": 10,
              "solidity": 0.2
             }
            },
            "type": "bar"
           }
          ],
          "barpolar": [
           {
            "marker": {
             "line": {
              "color": "white",
              "width": 0.5
             },
             "pattern": {
              "fillmode": "overlay",
              "size": 10,
              "solidity": 0.2
             }
            },
            "type": "barpolar"
           }
          ],
          "carpet": [
           {
            "aaxis": {
             "endlinecolor": "#2a3f5f",
             "gridcolor": "#C8D4E3",
             "linecolor": "#C8D4E3",
             "minorgridcolor": "#C8D4E3",
             "startlinecolor": "#2a3f5f"
            },
            "baxis": {
             "endlinecolor": "#2a3f5f",
             "gridcolor": "#C8D4E3",
             "linecolor": "#C8D4E3",
             "minorgridcolor": "#C8D4E3",
             "startlinecolor": "#2a3f5f"
            },
            "type": "carpet"
           }
          ],
          "choropleth": [
           {
            "colorbar": {
             "outlinewidth": 0,
             "ticks": ""
            },
            "type": "choropleth"
           }
          ],
          "contour": [
           {
            "colorbar": {
             "outlinewidth": 0,
             "ticks": ""
            },
            "colorscale": [
             [
              0,
              "#0d0887"
             ],
             [
              0.1111111111111111,
              "#46039f"
             ],
             [
              0.2222222222222222,
              "#7201a8"
             ],
             [
              0.3333333333333333,
              "#9c179e"
             ],
             [
              0.4444444444444444,
              "#bd3786"
             ],
             [
              0.5555555555555556,
              "#d8576b"
             ],
             [
              0.6666666666666666,
              "#ed7953"
             ],
             [
              0.7777777777777778,
              "#fb9f3a"
             ],
             [
              0.8888888888888888,
              "#fdca26"
             ],
             [
              1,
              "#f0f921"
             ]
            ],
            "type": "contour"
           }
          ],
          "contourcarpet": [
           {
            "colorbar": {
             "outlinewidth": 0,
             "ticks": ""
            },
            "type": "contourcarpet"
           }
          ],
          "heatmap": [
           {
            "colorbar": {
             "outlinewidth": 0,
             "ticks": ""
            },
            "colorscale": [
             [
              0,
              "#0d0887"
             ],
             [
              0.1111111111111111,
              "#46039f"
             ],
             [
              0.2222222222222222,
              "#7201a8"
             ],
             [
              0.3333333333333333,
              "#9c179e"
             ],
             [
              0.4444444444444444,
              "#bd3786"
             ],
             [
              0.5555555555555556,
              "#d8576b"
             ],
             [
              0.6666666666666666,
              "#ed7953"
             ],
             [
              0.7777777777777778,
              "#fb9f3a"
             ],
             [
              0.8888888888888888,
              "#fdca26"
             ],
             [
              1,
              "#f0f921"
             ]
            ],
            "type": "heatmap"
           }
          ],
          "heatmapgl": [
           {
            "colorbar": {
             "outlinewidth": 0,
             "ticks": ""
            },
            "colorscale": [
             [
              0,
              "#0d0887"
             ],
             [
              0.1111111111111111,
              "#46039f"
             ],
             [
              0.2222222222222222,
              "#7201a8"
             ],
             [
              0.3333333333333333,
              "#9c179e"
             ],
             [
              0.4444444444444444,
              "#bd3786"
             ],
             [
              0.5555555555555556,
              "#d8576b"
             ],
             [
              0.6666666666666666,
              "#ed7953"
             ],
             [
              0.7777777777777778,
              "#fb9f3a"
             ],
             [
              0.8888888888888888,
              "#fdca26"
             ],
             [
              1,
              "#f0f921"
             ]
            ],
            "type": "heatmapgl"
           }
          ],
          "histogram": [
           {
            "marker": {
             "pattern": {
              "fillmode": "overlay",
              "size": 10,
              "solidity": 0.2
             }
            },
            "type": "histogram"
           }
          ],
          "histogram2d": [
           {
            "colorbar": {
             "outlinewidth": 0,
             "ticks": ""
            },
            "colorscale": [
             [
              0,
              "#0d0887"
             ],
             [
              0.1111111111111111,
              "#46039f"
             ],
             [
              0.2222222222222222,
              "#7201a8"
             ],
             [
              0.3333333333333333,
              "#9c179e"
             ],
             [
              0.4444444444444444,
              "#bd3786"
             ],
             [
              0.5555555555555556,
              "#d8576b"
             ],
             [
              0.6666666666666666,
              "#ed7953"
             ],
             [
              0.7777777777777778,
              "#fb9f3a"
             ],
             [
              0.8888888888888888,
              "#fdca26"
             ],
             [
              1,
              "#f0f921"
             ]
            ],
            "type": "histogram2d"
           }
          ],
          "histogram2dcontour": [
           {
            "colorbar": {
             "outlinewidth": 0,
             "ticks": ""
            },
            "colorscale": [
             [
              0,
              "#0d0887"
             ],
             [
              0.1111111111111111,
              "#46039f"
             ],
             [
              0.2222222222222222,
              "#7201a8"
             ],
             [
              0.3333333333333333,
              "#9c179e"
             ],
             [
              0.4444444444444444,
              "#bd3786"
             ],
             [
              0.5555555555555556,
              "#d8576b"
             ],
             [
              0.6666666666666666,
              "#ed7953"
             ],
             [
              0.7777777777777778,
              "#fb9f3a"
             ],
             [
              0.8888888888888888,
              "#fdca26"
             ],
             [
              1,
              "#f0f921"
             ]
            ],
            "type": "histogram2dcontour"
           }
          ],
          "mesh3d": [
           {
            "colorbar": {
             "outlinewidth": 0,
             "ticks": ""
            },
            "type": "mesh3d"
           }
          ],
          "parcoords": [
           {
            "line": {
             "colorbar": {
              "outlinewidth": 0,
              "ticks": ""
             }
            },
            "type": "parcoords"
           }
          ],
          "pie": [
           {
            "automargin": true,
            "type": "pie"
           }
          ],
          "scatter": [
           {
            "fillpattern": {
             "fillmode": "overlay",
             "size": 10,
             "solidity": 0.2
            },
            "type": "scatter"
           }
          ],
          "scatter3d": [
           {
            "line": {
             "colorbar": {
              "outlinewidth": 0,
              "ticks": ""
             }
            },
            "marker": {
             "colorbar": {
              "outlinewidth": 0,
              "ticks": ""
             }
            },
            "type": "scatter3d"
           }
          ],
          "scattercarpet": [
           {
            "marker": {
             "colorbar": {
              "outlinewidth": 0,
              "ticks": ""
             }
            },
            "type": "scattercarpet"
           }
          ],
          "scattergeo": [
           {
            "marker": {
             "colorbar": {
              "outlinewidth": 0,
              "ticks": ""
             }
            },
            "type": "scattergeo"
           }
          ],
          "scattergl": [
           {
            "marker": {
             "colorbar": {
              "outlinewidth": 0,
              "ticks": ""
             }
            },
            "type": "scattergl"
           }
          ],
          "scattermapbox": [
           {
            "marker": {
             "colorbar": {
              "outlinewidth": 0,
              "ticks": ""
             }
            },
            "type": "scattermapbox"
           }
          ],
          "scatterpolar": [
           {
            "marker": {
             "colorbar": {
              "outlinewidth": 0,
              "ticks": ""
             }
            },
            "type": "scatterpolar"
           }
          ],
          "scatterpolargl": [
           {
            "marker": {
             "colorbar": {
              "outlinewidth": 0,
              "ticks": ""
             }
            },
            "type": "scatterpolargl"
           }
          ],
          "scatterternary": [
           {
            "marker": {
             "colorbar": {
              "outlinewidth": 0,
              "ticks": ""
             }
            },
            "type": "scatterternary"
           }
          ],
          "surface": [
           {
            "colorbar": {
             "outlinewidth": 0,
             "ticks": ""
            },
            "colorscale": [
             [
              0,
              "#0d0887"
             ],
             [
              0.1111111111111111,
              "#46039f"
             ],
             [
              0.2222222222222222,
              "#7201a8"
             ],
             [
              0.3333333333333333,
              "#9c179e"
             ],
             [
              0.4444444444444444,
              "#bd3786"
             ],
             [
              0.5555555555555556,
              "#d8576b"
             ],
             [
              0.6666666666666666,
              "#ed7953"
             ],
             [
              0.7777777777777778,
              "#fb9f3a"
             ],
             [
              0.8888888888888888,
              "#fdca26"
             ],
             [
              1,
              "#f0f921"
             ]
            ],
            "type": "surface"
           }
          ],
          "table": [
           {
            "cells": {
             "fill": {
              "color": "#EBF0F8"
             },
             "line": {
              "color": "white"
             }
            },
            "header": {
             "fill": {
              "color": "#C8D4E3"
             },
             "line": {
              "color": "white"
             }
            },
            "type": "table"
           }
          ]
         },
         "layout": {
          "annotationdefaults": {
           "arrowcolor": "#2a3f5f",
           "arrowhead": 0,
           "arrowwidth": 1
          },
          "autotypenumbers": "strict",
          "coloraxis": {
           "colorbar": {
            "outlinewidth": 0,
            "ticks": ""
           }
          },
          "colorscale": {
           "diverging": [
            [
             0,
             "#8e0152"
            ],
            [
             0.1,
             "#c51b7d"
            ],
            [
             0.2,
             "#de77ae"
            ],
            [
             0.3,
             "#f1b6da"
            ],
            [
             0.4,
             "#fde0ef"
            ],
            [
             0.5,
             "#f7f7f7"
            ],
            [
             0.6,
             "#e6f5d0"
            ],
            [
             0.7,
             "#b8e186"
            ],
            [
             0.8,
             "#7fbc41"
            ],
            [
             0.9,
             "#4d9221"
            ],
            [
             1,
             "#276419"
            ]
           ],
           "sequential": [
            [
             0,
             "#0d0887"
            ],
            [
             0.1111111111111111,
             "#46039f"
            ],
            [
             0.2222222222222222,
             "#7201a8"
            ],
            [
             0.3333333333333333,
             "#9c179e"
            ],
            [
             0.4444444444444444,
             "#bd3786"
            ],
            [
             0.5555555555555556,
             "#d8576b"
            ],
            [
             0.6666666666666666,
             "#ed7953"
            ],
            [
             0.7777777777777778,
             "#fb9f3a"
            ],
            [
             0.8888888888888888,
             "#fdca26"
            ],
            [
             1,
             "#f0f921"
            ]
           ],
           "sequentialminus": [
            [
             0,
             "#0d0887"
            ],
            [
             0.1111111111111111,
             "#46039f"
            ],
            [
             0.2222222222222222,
             "#7201a8"
            ],
            [
             0.3333333333333333,
             "#9c179e"
            ],
            [
             0.4444444444444444,
             "#bd3786"
            ],
            [
             0.5555555555555556,
             "#d8576b"
            ],
            [
             0.6666666666666666,
             "#ed7953"
            ],
            [
             0.7777777777777778,
             "#fb9f3a"
            ],
            [
             0.8888888888888888,
             "#fdca26"
            ],
            [
             1,
             "#f0f921"
            ]
           ]
          },
          "colorway": [
           "#636efa",
           "#EF553B",
           "#00cc96",
           "#ab63fa",
           "#FFA15A",
           "#19d3f3",
           "#FF6692",
           "#B6E880",
           "#FF97FF",
           "#FECB52"
          ],
          "font": {
           "color": "#2a3f5f"
          },
          "geo": {
           "bgcolor": "white",
           "lakecolor": "white",
           "landcolor": "white",
           "showlakes": true,
           "showland": true,
           "subunitcolor": "#C8D4E3"
          },
          "hoverlabel": {
           "align": "left"
          },
          "hovermode": "closest",
          "mapbox": {
           "style": "light"
          },
          "paper_bgcolor": "white",
          "plot_bgcolor": "white",
          "polar": {
           "angularaxis": {
            "gridcolor": "#EBF0F8",
            "linecolor": "#EBF0F8",
            "ticks": ""
           },
           "bgcolor": "white",
           "radialaxis": {
            "gridcolor": "#EBF0F8",
            "linecolor": "#EBF0F8",
            "ticks": ""
           }
          },
          "scene": {
           "xaxis": {
            "backgroundcolor": "white",
            "gridcolor": "#DFE8F3",
            "gridwidth": 2,
            "linecolor": "#EBF0F8",
            "showbackground": true,
            "ticks": "",
            "zerolinecolor": "#EBF0F8"
           },
           "yaxis": {
            "backgroundcolor": "white",
            "gridcolor": "#DFE8F3",
            "gridwidth": 2,
            "linecolor": "#EBF0F8",
            "showbackground": true,
            "ticks": "",
            "zerolinecolor": "#EBF0F8"
           },
           "zaxis": {
            "backgroundcolor": "white",
            "gridcolor": "#DFE8F3",
            "gridwidth": 2,
            "linecolor": "#EBF0F8",
            "showbackground": true,
            "ticks": "",
            "zerolinecolor": "#EBF0F8"
           }
          },
          "shapedefaults": {
           "line": {
            "color": "#2a3f5f"
           }
          },
          "ternary": {
           "aaxis": {
            "gridcolor": "#DFE8F3",
            "linecolor": "#A2B1C6",
            "ticks": ""
           },
           "baxis": {
            "gridcolor": "#DFE8F3",
            "linecolor": "#A2B1C6",
            "ticks": ""
           },
           "bgcolor": "white",
           "caxis": {
            "gridcolor": "#DFE8F3",
            "linecolor": "#A2B1C6",
            "ticks": ""
           }
          },
          "title": {
           "x": 0.05
          },
          "xaxis": {
           "automargin": true,
           "gridcolor": "#EBF0F8",
           "linecolor": "#EBF0F8",
           "ticks": "",
           "title": {
            "standoff": 15
           },
           "zerolinecolor": "#EBF0F8",
           "zerolinewidth": 2
          },
          "yaxis": {
           "automargin": true,
           "gridcolor": "#EBF0F8",
           "linecolor": "#EBF0F8",
           "ticks": "",
           "title": {
            "standoff": 15
           },
           "zerolinecolor": "#EBF0F8",
           "zerolinewidth": 2
          }
         }
        },
        "title": {
         "text": "Abundance of Pol II Core Proteins Across Samples (Normalized to Q6P2Q9)"
        },
        "width": 1000,
        "xaxis": {
         "tickmode": "array",
         "ticktext": [
          "2_normalized_Q6P2Q9",
          "4_normalized_Q6P2Q9"
         ],
         "tickvals": [
          0,
          1
         ],
         "title": {
          "text": "Sample Condition"
         }
        },
        "yaxis": {
         "range": [
          null,
          1.265
         ],
         "title": {
          "text": "Normalized Abundance"
         }
        }
       }
      }
     },
     "metadata": {},
     "output_type": "display_data"
    },
    {
     "data": {
      "application/vnd.jupyter.widget-view+json": {
       "model_id": "b8279717459f4ec3bd25f7fb38311ade",
       "version_major": 2,
       "version_minor": 0
      },
      "text/plain": [
       "Label(value='Select traces to include in the saved plot:')"
      ]
     },
     "metadata": {},
     "output_type": "display_data"
    },
    {
     "data": {
      "application/vnd.jupyter.widget-view+json": {
       "model_id": "dd0109d85e684b6988176e9d10a91c9c",
       "version_major": 2,
       "version_minor": 0
      },
      "text/plain": [
       "HBox(children=(Text(value='', description='File Name Suffix:', layout=Layout(width='400px'), style=TextStyle(d…"
      ]
     },
     "metadata": {},
     "output_type": "display_data"
    },
    {
     "data": {
      "application/vnd.jupyter.widget-view+json": {
       "model_id": "a00019fcc9064e71957718f75a437490",
       "version_major": 2,
       "version_minor": 0
      },
      "text/plain": [
       "Output()"
      ]
     },
     "metadata": {},
     "output_type": "display_data"
    },
    {
     "data": {
      "application/vnd.plotly.v1+json": {
       "config": {
        "plotlyServerURL": "https://plot.ly"
       },
       "data": [
        {
         "box": {
          "visible": true
         },
         "fillcolor": "#f77189",
         "hoverinfo": "skip",
         "line": {
          "color": "rgba(0, 0, 0, 0)"
         },
         "meanline": {
          "visible": true
         },
         "name": "2_normalized_Q6P2Q9",
         "opacity": 0.6,
         "pointpos": 0,
         "points": "all",
         "type": "violin",
         "x": [
          0,
          0,
          0,
          0,
          0,
          0,
          0,
          0
         ],
         "y": [
          1,
          1,
          11.809572547584644,
          10.045627944863007,
          1,
          1,
          1,
          2.8578596285203544
         ]
        },
        {
         "hoverinfo": "text",
         "hovertext": [
          "Q13573<br>SNW domain-containing protein 1 OS=Homo sapiens OX=9606 GN=SNW1 PE=1 SV=1",
          "Q9HCS7<br>Pre-mRNA-splicing factor SYF1 OS=Homo sapiens OX=9606 GN=XAB2 PE=1 SV=2",
          "O60306<br>RNA helicase aquarius OS=Homo sapiens OX=9606 GN=AQR PE=1 SV=4",
          "Q9Y3C6<br>Peptidyl-prolyl cis-trans isomerase-like 1 OS=Homo sapiens OX=9606 GN=PPIL1 PE=1 SV=1",
          "Q9NW64<br>Pre-mRNA-splicing factor RBM22 OS=Homo sapiens OX=9606 GN=RBM22 PE=1 SV=1",
          "Q9BZJ0<br>Crooked neck-like protein 1 OS=Homo sapiens OX=9606 GN=CRNKL1 PE=1 SV=4",
          "Q9ULR0<br>Pre-mRNA-splicing factor ISY1 homolog OS=Homo sapiens OX=9606 GN=ISY1 PE=1 SV=3",
          "Q9UNP9<br>Peptidyl-prolyl cis-trans isomerase E OS=Homo sapiens OX=9606 GN=PPIE PE=1 SV=1"
         ],
         "marker": {
          "color": "black",
          "line": {
           "color": "white",
           "width": 1
          },
          "opacity": 1,
          "size": 6
         },
         "mode": "markers+text",
         "text": [
          "SNW1",
          "XAB2",
          "AQR",
          "PPIL1",
          "RBM22",
          "CRNKL1",
          "ISY1",
          "PPIE"
         ],
         "textposition": "top center",
         "type": "scatter",
         "x": [
          0.031379501970694876,
          0.01847311725538793,
          -0.03373830606551087,
          0.04109271844938425,
          0.032253724292316904,
          0.044979991329192406,
          0.022571950838835994,
          0.011341519593578986
         ],
         "y": [
          1,
          1,
          11.809572547584644,
          10.045627944863007,
          1,
          1,
          1,
          2.8578596285203544
         ]
        },
        {
         "box": {
          "visible": true
         },
         "fillcolor": "#36ada4",
         "hoverinfo": "skip",
         "line": {
          "color": "rgba(0, 0, 0, 0)"
         },
         "meanline": {
          "visible": true
         },
         "name": "4_normalized_Q6P2Q9",
         "opacity": 0.6,
         "pointpos": 0,
         "points": "all",
         "type": "violin",
         "x": [
          1,
          1,
          1,
          1,
          1,
          1,
          1,
          1
         ],
         "y": [
          0.4923957153619407,
          0.2050695812363069,
          0.2924812942610884,
          0.20865247762958428,
          0.1310843364470941,
          0.10511386455717188,
          0.02405882125788486,
          0.03724120283698351
         ]
        },
        {
         "hoverinfo": "text",
         "hovertext": [
          "Q13573<br>SNW domain-containing protein 1 OS=Homo sapiens OX=9606 GN=SNW1 PE=1 SV=1",
          "Q9HCS7<br>Pre-mRNA-splicing factor SYF1 OS=Homo sapiens OX=9606 GN=XAB2 PE=1 SV=2",
          "O60306<br>RNA helicase aquarius OS=Homo sapiens OX=9606 GN=AQR PE=1 SV=4",
          "Q9Y3C6<br>Peptidyl-prolyl cis-trans isomerase-like 1 OS=Homo sapiens OX=9606 GN=PPIL1 PE=1 SV=1",
          "Q9NW64<br>Pre-mRNA-splicing factor RBM22 OS=Homo sapiens OX=9606 GN=RBM22 PE=1 SV=1",
          "Q9BZJ0<br>Crooked neck-like protein 1 OS=Homo sapiens OX=9606 GN=CRNKL1 PE=1 SV=4",
          "Q9ULR0<br>Pre-mRNA-splicing factor ISY1 homolog OS=Homo sapiens OX=9606 GN=ISY1 PE=1 SV=3",
          "Q9UNP9<br>Peptidyl-prolyl cis-trans isomerase E OS=Homo sapiens OX=9606 GN=PPIE PE=1 SV=1"
         ],
         "marker": {
          "color": "black",
          "line": {
           "color": "white",
           "width": 1
          },
          "opacity": 1,
          "size": 6
         },
         "mode": "markers+text",
         "text": [
          "SNW1",
          "XAB2",
          "AQR",
          "PPIL1",
          "RBM22",
          "CRNKL1",
          "ISY1",
          "PPIE"
         ],
         "textposition": "top center",
         "type": "scatter",
         "x": [
          0.9918243036290619,
          1.0432728483354012,
          1.0366063889500408,
          0.9545218670106189,
          0.9526366974497252,
          0.987646336687805,
          1.0310553330781833,
          1.0487276129314944
         ],
         "y": [
          0.4923957153619407,
          0.2050695812363069,
          0.2924812942610884,
          0.20865247762958428,
          0.1310843364470941,
          0.10511386455717188,
          0.02405882125788486,
          0.03724120283698351
         ]
        }
       ],
       "layout": {
        "height": 600,
        "showlegend": false,
        "template": {
         "data": {
          "bar": [
           {
            "error_x": {
             "color": "#2a3f5f"
            },
            "error_y": {
             "color": "#2a3f5f"
            },
            "marker": {
             "line": {
              "color": "white",
              "width": 0.5
             },
             "pattern": {
              "fillmode": "overlay",
              "size": 10,
              "solidity": 0.2
             }
            },
            "type": "bar"
           }
          ],
          "barpolar": [
           {
            "marker": {
             "line": {
              "color": "white",
              "width": 0.5
             },
             "pattern": {
              "fillmode": "overlay",
              "size": 10,
              "solidity": 0.2
             }
            },
            "type": "barpolar"
           }
          ],
          "carpet": [
           {
            "aaxis": {
             "endlinecolor": "#2a3f5f",
             "gridcolor": "#C8D4E3",
             "linecolor": "#C8D4E3",
             "minorgridcolor": "#C8D4E3",
             "startlinecolor": "#2a3f5f"
            },
            "baxis": {
             "endlinecolor": "#2a3f5f",
             "gridcolor": "#C8D4E3",
             "linecolor": "#C8D4E3",
             "minorgridcolor": "#C8D4E3",
             "startlinecolor": "#2a3f5f"
            },
            "type": "carpet"
           }
          ],
          "choropleth": [
           {
            "colorbar": {
             "outlinewidth": 0,
             "ticks": ""
            },
            "type": "choropleth"
           }
          ],
          "contour": [
           {
            "colorbar": {
             "outlinewidth": 0,
             "ticks": ""
            },
            "colorscale": [
             [
              0,
              "#0d0887"
             ],
             [
              0.1111111111111111,
              "#46039f"
             ],
             [
              0.2222222222222222,
              "#7201a8"
             ],
             [
              0.3333333333333333,
              "#9c179e"
             ],
             [
              0.4444444444444444,
              "#bd3786"
             ],
             [
              0.5555555555555556,
              "#d8576b"
             ],
             [
              0.6666666666666666,
              "#ed7953"
             ],
             [
              0.7777777777777778,
              "#fb9f3a"
             ],
             [
              0.8888888888888888,
              "#fdca26"
             ],
             [
              1,
              "#f0f921"
             ]
            ],
            "type": "contour"
           }
          ],
          "contourcarpet": [
           {
            "colorbar": {
             "outlinewidth": 0,
             "ticks": ""
            },
            "type": "contourcarpet"
           }
          ],
          "heatmap": [
           {
            "colorbar": {
             "outlinewidth": 0,
             "ticks": ""
            },
            "colorscale": [
             [
              0,
              "#0d0887"
             ],
             [
              0.1111111111111111,
              "#46039f"
             ],
             [
              0.2222222222222222,
              "#7201a8"
             ],
             [
              0.3333333333333333,
              "#9c179e"
             ],
             [
              0.4444444444444444,
              "#bd3786"
             ],
             [
              0.5555555555555556,
              "#d8576b"
             ],
             [
              0.6666666666666666,
              "#ed7953"
             ],
             [
              0.7777777777777778,
              "#fb9f3a"
             ],
             [
              0.8888888888888888,
              "#fdca26"
             ],
             [
              1,
              "#f0f921"
             ]
            ],
            "type": "heatmap"
           }
          ],
          "heatmapgl": [
           {
            "colorbar": {
             "outlinewidth": 0,
             "ticks": ""
            },
            "colorscale": [
             [
              0,
              "#0d0887"
             ],
             [
              0.1111111111111111,
              "#46039f"
             ],
             [
              0.2222222222222222,
              "#7201a8"
             ],
             [
              0.3333333333333333,
              "#9c179e"
             ],
             [
              0.4444444444444444,
              "#bd3786"
             ],
             [
              0.5555555555555556,
              "#d8576b"
             ],
             [
              0.6666666666666666,
              "#ed7953"
             ],
             [
              0.7777777777777778,
              "#fb9f3a"
             ],
             [
              0.8888888888888888,
              "#fdca26"
             ],
             [
              1,
              "#f0f921"
             ]
            ],
            "type": "heatmapgl"
           }
          ],
          "histogram": [
           {
            "marker": {
             "pattern": {
              "fillmode": "overlay",
              "size": 10,
              "solidity": 0.2
             }
            },
            "type": "histogram"
           }
          ],
          "histogram2d": [
           {
            "colorbar": {
             "outlinewidth": 0,
             "ticks": ""
            },
            "colorscale": [
             [
              0,
              "#0d0887"
             ],
             [
              0.1111111111111111,
              "#46039f"
             ],
             [
              0.2222222222222222,
              "#7201a8"
             ],
             [
              0.3333333333333333,
              "#9c179e"
             ],
             [
              0.4444444444444444,
              "#bd3786"
             ],
             [
              0.5555555555555556,
              "#d8576b"
             ],
             [
              0.6666666666666666,
              "#ed7953"
             ],
             [
              0.7777777777777778,
              "#fb9f3a"
             ],
             [
              0.8888888888888888,
              "#fdca26"
             ],
             [
              1,
              "#f0f921"
             ]
            ],
            "type": "histogram2d"
           }
          ],
          "histogram2dcontour": [
           {
            "colorbar": {
             "outlinewidth": 0,
             "ticks": ""
            },
            "colorscale": [
             [
              0,
              "#0d0887"
             ],
             [
              0.1111111111111111,
              "#46039f"
             ],
             [
              0.2222222222222222,
              "#7201a8"
             ],
             [
              0.3333333333333333,
              "#9c179e"
             ],
             [
              0.4444444444444444,
              "#bd3786"
             ],
             [
              0.5555555555555556,
              "#d8576b"
             ],
             [
              0.6666666666666666,
              "#ed7953"
             ],
             [
              0.7777777777777778,
              "#fb9f3a"
             ],
             [
              0.8888888888888888,
              "#fdca26"
             ],
             [
              1,
              "#f0f921"
             ]
            ],
            "type": "histogram2dcontour"
           }
          ],
          "mesh3d": [
           {
            "colorbar": {
             "outlinewidth": 0,
             "ticks": ""
            },
            "type": "mesh3d"
           }
          ],
          "parcoords": [
           {
            "line": {
             "colorbar": {
              "outlinewidth": 0,
              "ticks": ""
             }
            },
            "type": "parcoords"
           }
          ],
          "pie": [
           {
            "automargin": true,
            "type": "pie"
           }
          ],
          "scatter": [
           {
            "fillpattern": {
             "fillmode": "overlay",
             "size": 10,
             "solidity": 0.2
            },
            "type": "scatter"
           }
          ],
          "scatter3d": [
           {
            "line": {
             "colorbar": {
              "outlinewidth": 0,
              "ticks": ""
             }
            },
            "marker": {
             "colorbar": {
              "outlinewidth": 0,
              "ticks": ""
             }
            },
            "type": "scatter3d"
           }
          ],
          "scattercarpet": [
           {
            "marker": {
             "colorbar": {
              "outlinewidth": 0,
              "ticks": ""
             }
            },
            "type": "scattercarpet"
           }
          ],
          "scattergeo": [
           {
            "marker": {
             "colorbar": {
              "outlinewidth": 0,
              "ticks": ""
             }
            },
            "type": "scattergeo"
           }
          ],
          "scattergl": [
           {
            "marker": {
             "colorbar": {
              "outlinewidth": 0,
              "ticks": ""
             }
            },
            "type": "scattergl"
           }
          ],
          "scattermapbox": [
           {
            "marker": {
             "colorbar": {
              "outlinewidth": 0,
              "ticks": ""
             }
            },
            "type": "scattermapbox"
           }
          ],
          "scatterpolar": [
           {
            "marker": {
             "colorbar": {
              "outlinewidth": 0,
              "ticks": ""
             }
            },
            "type": "scatterpolar"
           }
          ],
          "scatterpolargl": [
           {
            "marker": {
             "colorbar": {
              "outlinewidth": 0,
              "ticks": ""
             }
            },
            "type": "scatterpolargl"
           }
          ],
          "scatterternary": [
           {
            "marker": {
             "colorbar": {
              "outlinewidth": 0,
              "ticks": ""
             }
            },
            "type": "scatterternary"
           }
          ],
          "surface": [
           {
            "colorbar": {
             "outlinewidth": 0,
             "ticks": ""
            },
            "colorscale": [
             [
              0,
              "#0d0887"
             ],
             [
              0.1111111111111111,
              "#46039f"
             ],
             [
              0.2222222222222222,
              "#7201a8"
             ],
             [
              0.3333333333333333,
              "#9c179e"
             ],
             [
              0.4444444444444444,
              "#bd3786"
             ],
             [
              0.5555555555555556,
              "#d8576b"
             ],
             [
              0.6666666666666666,
              "#ed7953"
             ],
             [
              0.7777777777777778,
              "#fb9f3a"
             ],
             [
              0.8888888888888888,
              "#fdca26"
             ],
             [
              1,
              "#f0f921"
             ]
            ],
            "type": "surface"
           }
          ],
          "table": [
           {
            "cells": {
             "fill": {
              "color": "#EBF0F8"
             },
             "line": {
              "color": "white"
             }
            },
            "header": {
             "fill": {
              "color": "#C8D4E3"
             },
             "line": {
              "color": "white"
             }
            },
            "type": "table"
           }
          ]
         },
         "layout": {
          "annotationdefaults": {
           "arrowcolor": "#2a3f5f",
           "arrowhead": 0,
           "arrowwidth": 1
          },
          "autotypenumbers": "strict",
          "coloraxis": {
           "colorbar": {
            "outlinewidth": 0,
            "ticks": ""
           }
          },
          "colorscale": {
           "diverging": [
            [
             0,
             "#8e0152"
            ],
            [
             0.1,
             "#c51b7d"
            ],
            [
             0.2,
             "#de77ae"
            ],
            [
             0.3,
             "#f1b6da"
            ],
            [
             0.4,
             "#fde0ef"
            ],
            [
             0.5,
             "#f7f7f7"
            ],
            [
             0.6,
             "#e6f5d0"
            ],
            [
             0.7,
             "#b8e186"
            ],
            [
             0.8,
             "#7fbc41"
            ],
            [
             0.9,
             "#4d9221"
            ],
            [
             1,
             "#276419"
            ]
           ],
           "sequential": [
            [
             0,
             "#0d0887"
            ],
            [
             0.1111111111111111,
             "#46039f"
            ],
            [
             0.2222222222222222,
             "#7201a8"
            ],
            [
             0.3333333333333333,
             "#9c179e"
            ],
            [
             0.4444444444444444,
             "#bd3786"
            ],
            [
             0.5555555555555556,
             "#d8576b"
            ],
            [
             0.6666666666666666,
             "#ed7953"
            ],
            [
             0.7777777777777778,
             "#fb9f3a"
            ],
            [
             0.8888888888888888,
             "#fdca26"
            ],
            [
             1,
             "#f0f921"
            ]
           ],
           "sequentialminus": [
            [
             0,
             "#0d0887"
            ],
            [
             0.1111111111111111,
             "#46039f"
            ],
            [
             0.2222222222222222,
             "#7201a8"
            ],
            [
             0.3333333333333333,
             "#9c179e"
            ],
            [
             0.4444444444444444,
             "#bd3786"
            ],
            [
             0.5555555555555556,
             "#d8576b"
            ],
            [
             0.6666666666666666,
             "#ed7953"
            ],
            [
             0.7777777777777778,
             "#fb9f3a"
            ],
            [
             0.8888888888888888,
             "#fdca26"
            ],
            [
             1,
             "#f0f921"
            ]
           ]
          },
          "colorway": [
           "#636efa",
           "#EF553B",
           "#00cc96",
           "#ab63fa",
           "#FFA15A",
           "#19d3f3",
           "#FF6692",
           "#B6E880",
           "#FF97FF",
           "#FECB52"
          ],
          "font": {
           "color": "#2a3f5f"
          },
          "geo": {
           "bgcolor": "white",
           "lakecolor": "white",
           "landcolor": "white",
           "showlakes": true,
           "showland": true,
           "subunitcolor": "#C8D4E3"
          },
          "hoverlabel": {
           "align": "left"
          },
          "hovermode": "closest",
          "mapbox": {
           "style": "light"
          },
          "paper_bgcolor": "white",
          "plot_bgcolor": "white",
          "polar": {
           "angularaxis": {
            "gridcolor": "#EBF0F8",
            "linecolor": "#EBF0F8",
            "ticks": ""
           },
           "bgcolor": "white",
           "radialaxis": {
            "gridcolor": "#EBF0F8",
            "linecolor": "#EBF0F8",
            "ticks": ""
           }
          },
          "scene": {
           "xaxis": {
            "backgroundcolor": "white",
            "gridcolor": "#DFE8F3",
            "gridwidth": 2,
            "linecolor": "#EBF0F8",
            "showbackground": true,
            "ticks": "",
            "zerolinecolor": "#EBF0F8"
           },
           "yaxis": {
            "backgroundcolor": "white",
            "gridcolor": "#DFE8F3",
            "gridwidth": 2,
            "linecolor": "#EBF0F8",
            "showbackground": true,
            "ticks": "",
            "zerolinecolor": "#EBF0F8"
           },
           "zaxis": {
            "backgroundcolor": "white",
            "gridcolor": "#DFE8F3",
            "gridwidth": 2,
            "linecolor": "#EBF0F8",
            "showbackground": true,
            "ticks": "",
            "zerolinecolor": "#EBF0F8"
           }
          },
          "shapedefaults": {
           "line": {
            "color": "#2a3f5f"
           }
          },
          "ternary": {
           "aaxis": {
            "gridcolor": "#DFE8F3",
            "linecolor": "#A2B1C6",
            "ticks": ""
           },
           "baxis": {
            "gridcolor": "#DFE8F3",
            "linecolor": "#A2B1C6",
            "ticks": ""
           },
           "bgcolor": "white",
           "caxis": {
            "gridcolor": "#DFE8F3",
            "linecolor": "#A2B1C6",
            "ticks": ""
           }
          },
          "title": {
           "x": 0.05
          },
          "xaxis": {
           "automargin": true,
           "gridcolor": "#EBF0F8",
           "linecolor": "#EBF0F8",
           "ticks": "",
           "title": {
            "standoff": 15
           },
           "zerolinecolor": "#EBF0F8",
           "zerolinewidth": 2
          },
          "yaxis": {
           "automargin": true,
           "gridcolor": "#EBF0F8",
           "linecolor": "#EBF0F8",
           "ticks": "",
           "title": {
            "standoff": 15
           },
           "zerolinecolor": "#EBF0F8",
           "zerolinewidth": 2
          }
         }
        },
        "title": {
         "text": "Abundance of PRP19 related Proteins Across Samples (Normalized to Q6P2Q9)"
        },
        "width": 1000,
        "xaxis": {
         "tickmode": "array",
         "ticktext": [
          "2_normalized_Q6P2Q9",
          "4_normalized_Q6P2Q9"
         ],
         "tickvals": [
          0,
          1
         ],
         "title": {
          "text": "Sample Condition"
         }
        },
        "yaxis": {
         "range": [
          null,
          14.939109272694573
         ],
         "title": {
          "text": "Normalized Abundance"
         }
        }
       }
      }
     },
     "metadata": {},
     "output_type": "display_data"
    },
    {
     "data": {
      "application/vnd.jupyter.widget-view+json": {
       "model_id": "ae107672868a4ecbb2b971fed6cffddd",
       "version_major": 2,
       "version_minor": 0
      },
      "text/plain": [
       "Label(value='Select traces to include in the saved plot:')"
      ]
     },
     "metadata": {},
     "output_type": "display_data"
    },
    {
     "data": {
      "application/vnd.jupyter.widget-view+json": {
       "model_id": "425fa01d50eb4967bef62c8d11dd6cf0",
       "version_major": 2,
       "version_minor": 0
      },
      "text/plain": [
       "HBox(children=(Text(value='', description='File Name Suffix:', layout=Layout(width='400px'), style=TextStyle(d…"
      ]
     },
     "metadata": {},
     "output_type": "display_data"
    },
    {
     "data": {
      "application/vnd.jupyter.widget-view+json": {
       "model_id": "a62b041c55c6406fb12b9c7edcc4fe6f",
       "version_major": 2,
       "version_minor": 0
      },
      "text/plain": [
       "Output()"
      ]
     },
     "metadata": {},
     "output_type": "display_data"
    },
    {
     "name": "stdout",
     "output_type": "stream",
     "text": [
      "All figures displayed. Use the on-screen widgets to save plots as needed.\n"
     ]
    }
   ],
   "source": [
    "plot_normalized_data = True  # Set True to plot normalized data, False for raw data\n",
    "reference_protein_accession = 'Q6P2Q9'  # Set to None if you don't want normalization\n",
    "\n",
    "\n",
    "from utils_mass_spec_analysis_singlicates import (\n",
    "    ensure_normalization,\n",
    "    generate_color_palette,\n",
    "    plot_class_abundance_plotly,\n",
    "    show_violin_plot_with_save_button\n",
    ")\n",
    "from datetime import datetime\n",
    "import os\n",
    "\n",
    "# Retrieve hover fields from the field selector\n",
    "hover_fields = field_selector.get_selected_hover_fields()\n",
    "\n",
    "# Use selection_results to set conditions and classes:\n",
    "conditions_to_plot = selection_results[\"conditions_to_plot\"]\n",
    "classes_to_plot = selection_results[\"classes_to_plot\"]\n",
    "\n",
    "# Ensure normalization if required\n",
    "if plot_normalized_data and reference_protein_accession:\n",
    "    normalized_data = ensure_normalization(preprocessor.merged_data, reference_protein_accession, conditions_to_plot)\n",
    "else:\n",
    "    normalized_data = preprocessor.merged_data\n",
    "\n",
    "# Create output directory for violin plots\n",
    "violin_plot_dir = os.path.join(output_directory_input, \"violin_plots\")\n",
    "os.makedirs(violin_plot_dir, exist_ok=True)\n",
    "\n",
    "# Create a color map for the conditions (or use your preferred mapping)\n",
    "color_map = generate_color_palette(conditions_to_plot)\n",
    "\n",
    "# Timestamp for file names\n",
    "timestamp = datetime.now().strftime(\"%Y%m%d_%H%M%S\")\n",
    "\n",
    "# Loop over each class to plot\n",
    "for class_to_plot in classes_to_plot:\n",
    "    sanitized_class_name = class_to_plot.replace(' ', '_').replace('/', '_')\n",
    "    fig = plot_class_abundance_plotly(\n",
    "        class_to_plot,\n",
    "        normalized_data,\n",
    "        conditions_to_plot,\n",
    "        color_map,\n",
    "        reference_protein_accession=reference_protein_accession,\n",
    "        plot_normalized_data=plot_normalized_data,\n",
    "        label_genes=True,        # or False if you do not want gene labels\n",
    "        hover_fields=hover_fields  # Use the hover fields from the InteractiveFieldSelector\n",
    "    )\n",
    "    show_violin_plot_with_save_button(fig, sanitized_class_name, violin_plot_dir, timestamp)\n",
    "\n",
    "print(\"All figures displayed. Use the on-screen widgets to save plots as needed.\")\n"
   ]
  },
  {
   "cell_type": "markdown",
   "metadata": {},
   "source": [
    "## Heatmap visualisation of average log2 fold changes of Class/ Family between conditions\n",
    "The next block generates heatmap of **averaged* log2fold changes of selected classes in the selected conditions. You can adjust the height of the heat map squares using the parameters at the top\n"
   ]
  },
  {
   "cell_type": "code",
   "execution_count": null,
   "metadata": {},
   "outputs": [
    {
     "name": "stdout",
     "output_type": "stream",
     "text": [
      "Normalization turned off or no reference provided; using non-normalized data.\n",
      "Interactive saving for comparison: 2 vs 4\n"
     ]
    },
    {
     "data": {
      "application/vnd.jupyter.widget-view+json": {
       "model_id": "9cd532e8fc464c77ab0af78cc20292b6",
       "version_major": 2,
       "version_minor": 0
      },
      "text/plain": [
       "VBox(children=(FigureWidget({\n",
       "    'data': [{'hoverinfo': 'text',\n",
       "              'hovertext': [0.46, -2.23],\n",
       "   …"
      ]
     },
     "metadata": {},
     "output_type": "display_data"
    },
    {
     "name": "stdout",
     "output_type": "stream",
     "text": [
      "\n",
      "Done! Files (if saved) will appear under: analysis\\heatmap\n"
     ]
    }
   ],
   "source": [
    "from utils_mass_spec_analysis_singlicates import run_heatmap_analysis_with_widgets\n",
    "\n",
    "# Set your plot layout parameters in the notebook:\n",
    "BAR_HEIGHT = 30      # Vertical space per class\n",
    "MARGIN = 200         # Extra margin for titles/labels\n",
    "FIG_WIDTH = 750      # Fixed width for the figure\n",
    "\n",
    "plot_normalized_data = False  # Set True to plot normalized data, False for raw data\n",
    "reference_protein_accession = 'Q6P2Q9'  # Set to None if you don't want normalization\n",
    "\n",
    "\n",
    "# Retrieve interactive selections from your previous cell:\n",
    "conditions_to_plot = selection_results[\"conditions_to_plot\"]\n",
    "classes_to_plot = selection_results[\"classes_to_plot\"]\n",
    "\n",
    "\n",
    "# Call the heatmap analysis function with widget-based saving:\n",
    "run_heatmap_analysis_with_widgets(\n",
    "    merged_data=preprocessor.merged_data,\n",
    "    conditions_to_plot=conditions_to_plot,\n",
    "    classes_to_plot=classes_to_plot,\n",
    "    reference_protein_accession=reference_protein_accession,\n",
    "    plot_normalized_data=plot_normalized_data,\n",
    "    mass_spec_file_path=mass_spec_file_path,\n",
    "    output_directory_input=output_directory_input,  # or \"\" to use default\n",
    "    bar_height_per_class=BAR_HEIGHT,\n",
    "    additional_margin=MARGIN,\n",
    "    fig_width=FIG_WIDTH\n",
    ")\n"
   ]
  },
  {
   "cell_type": "markdown",
   "metadata": {},
   "source": [
    "## Z-score heatmap\n",
    "\n",
    "The next heatmap calcualtes z-scores for each Class/ Family. These Z scores indicate how many standard deviations above or below the class’s mean a particular abundance value lies. This transformation is applied row-wise, and the resulting standardized values (Z scores) are then used to generate the heatmap. This is useful when your experiment contained may conditions. THe code also clusters the Classes/Families and conditions by similarity!\n",
    "\n",
    "**Note**: You can turn of clustering by setting the perform_clustering=False in the code block!"
   ]
  },
  {
   "cell_type": "code",
   "execution_count": null,
   "metadata": {},
   "outputs": [
    {
     "name": "stdout",
     "output_type": "stream",
     "text": [
      "Significant changes: 2, Non-significant changes: 0\n"
     ]
    },
    {
     "data": {
      "application/vnd.jupyter.widget-view+json": {
       "model_id": "7964420a10a940b09aea21fdb6a1586e",
       "version_major": 2,
       "version_minor": 0
      },
      "text/plain": [
       "VBox(children=(FigureWidget({\n",
       "    'data': [{'line': {'color': 'black', 'width': 1},\n",
       "              'mode': 'lin…"
      ]
     },
     "metadata": {},
     "output_type": "display_data"
    },
    {
     "data": {
      "text/html": [
       "<style type=\"text/css\">\n",
       "#T_1ab4f_row0_col0, #T_1ab4f_row1_col0 {\n",
       "  text-align: center;\n",
       "}\n",
       "</style>\n",
       "<table id=\"T_1ab4f\">\n",
       "  <caption>Significance Markers, P-Values, and Fold Changes</caption>\n",
       "  <thead>\n",
       "    <tr>\n",
       "      <th class=\"blank level0\" >&nbsp;</th>\n",
       "      <th id=\"T_1ab4f_level0_col0\" class=\"col_heading level0 col0\" >2 vs 4</th>\n",
       "    </tr>\n",
       "    <tr>\n",
       "      <th class=\"index_name level0\" >Class / family</th>\n",
       "      <th class=\"blank col0\" >&nbsp;</th>\n",
       "    </tr>\n",
       "  </thead>\n",
       "  <tbody>\n",
       "    <tr>\n",
       "      <th id=\"T_1ab4f_level0_row0\" class=\"row_heading level0 row0\" >PRP19 related</th>\n",
       "      <td id=\"T_1ab4f_row0_col0\" class=\"data row0 col0\" >* p=2.19e-02, FC=-3.66</td>\n",
       "    </tr>\n",
       "    <tr>\n",
       "      <th id=\"T_1ab4f_level0_row1\" class=\"row_heading level0 row1\" >Pol II Core</th>\n",
       "      <td id=\"T_1ab4f_row1_col0\" class=\"data row1 col0\" >*** p=4.66e-05, FC=0.46</td>\n",
       "    </tr>\n",
       "  </tbody>\n",
       "</table>\n"
      ],
      "text/plain": [
       "<pandas.io.formats.style.Styler at 0x1b725bbf790>"
      ]
     },
     "metadata": {},
     "output_type": "display_data"
    },
    {
     "name": "stdout",
     "output_type": "stream",
     "text": [
      "\n",
      "Done! Heatmap and any saved files are located under: analysis\\class_level_heatmaps\n"
     ]
    }
   ],
   "source": [
    "from utils_mass_spec_analysis_singlicates import run_class_level_heatmap_analysis_with_dendrogram_and_widgets\n",
    "\n",
    "\n",
    "plot_normalized_data = False  # Set True to plot normalized data, False for raw data\n",
    "reference_protein_accession = 'Q6P2Q9'  # Set to None if you don't want normalization\n",
    "\n",
    "# Retrieve interactive selections from your earlier cell:\n",
    "conditions_to_plot = selection_results[\"conditions_to_plot\"]\n",
    "classes_to_plot = selection_results[\"classes_to_plot\"]\n",
    "\n",
    "# Call the heatmap analysis function with dendrograms and widget-based saving.\n",
    "run_class_level_heatmap_analysis_with_dendrogram_and_widgets(\n",
    "    merged_data=preprocessor.merged_data,\n",
    "    conditions_to_plot=conditions_to_plot,\n",
    "    classes_to_plot=classes_to_plot,\n",
    "    reference_protein_accession=reference_protein_accession,\n",
    "    plot_normalized_data=plot_normalized_data,\n",
    "    mass_spec_file_path=mass_spec_file_path,\n",
    "    output_directory_input=output_directory_input,  # or \"\" to use default\n",
    "    perform_clustering=True,\n",
    "    comparison_label=\"Class_Level_Heatmap\",\n",
    "    hover_fields_for_heatmap=[\"Genes\", \"Description\"],\n",
    "    bar_height_per_class=200,      # Passed from the main notebook\n",
    "    additional_margin=200,         # Passed from the main notebook\n",
    "    fig_width=1000                   # Passed from the main notebook (adjust as desired)\n",
    ")\n"
   ]
  }
 ],
 "metadata": {
  "kernelspec": {
   "display_name": "Python (ms_analysis)",
   "language": "python",
   "name": "ms_analysis"
  },
  "language_info": {
   "codemirror_mode": {
    "name": "ipython",
    "version": 3
   },
   "file_extension": ".py",
   "mimetype": "text/x-python",
   "name": "python",
   "nbconvert_exporter": "python",
   "pygments_lexer": "ipython3",
   "version": "3.9.21"
  }
 },
 "nbformat": 4,
 "nbformat_minor": 2
}
